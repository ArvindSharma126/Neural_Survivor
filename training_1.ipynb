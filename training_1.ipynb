{
 "cells": [
  {
   "cell_type": "code",
   "execution_count": null,
   "metadata": {
    "id": "dybdzt6beXJD"
   },
   "outputs": [],
   "source": [
    "import os\n",
    "import numpy as np\n",
    "import pandas as pd\n",
    "from PIL import Image"
   ]
  },
  {
   "cell_type": "code",
   "execution_count": null,
   "metadata": {},
   "outputs": [],
   "source": [
    "!mkdir dataset500x50\n",
    "!mkdir dataset500x50/train\n",
    "!mkdir dataset500x50/val"
   ]
  },
  {
   "cell_type": "code",
   "execution_count": null,
   "metadata": {
    "id": "s8_HGdDq6x2z"
   },
   "outputs": [],
   "source": [
    "import glob\n",
    "\n",
    "path = 'dataset/train/**/*.jpg'\n",
    "\n",
    "files = np.array(glob.glob(path, recursive=True))\n",
    "new_files = []\n",
    "l = len(files)\n",
    "for i in range(l):\n",
    "  new_files.append(files[i].split('/')[-2]+'_'+files[i].split('/')[-1])\n",
    "  files[i] = files[i].split('/')[-2]+'/'+files[i].split('/')[-1]"
   ]
  },
  {
   "cell_type": "code",
   "execution_count": null,
   "metadata": {
    "id": "HIIUrBSYonfF"
   },
   "outputs": [],
   "source": [
    "path1 = 'dataset/train/'\n",
    "path2 = 'dataset500x50/train/'\n",
    "l = len(files)\n",
    "k = 0\n",
    "for i in range(l):\n",
    "  img = Image.open(path1+files[i])\n",
    "  img = img.resize((500,50))\n",
    "  img.save(path2+new_files[i])\n",
    "  k+=1"
   ]
  },
  {
   "cell_type": "code",
   "execution_count": null,
   "metadata": {
    "id": "Kt4ijzhdw_4F"
   },
   "outputs": [],
   "source": [
    "import glob\n",
    "\n",
    "path = 'dataset/val/*'\n",
    "\n",
    "files = np.array(glob.glob(path, recursive=True))\n",
    "new_files = []\n",
    "l = len(files)\n",
    "for i in range(l):\n",
    "  files[i] = files[i].split('/')[-1]"
   ]
  },
  {
   "cell_type": "code",
   "execution_count": null,
   "metadata": {
    "id": "YntO-y1mxK8o"
   },
   "outputs": [],
   "source": [
    "path1 = 'dataset/val/'\n",
    "path2 = 'dataset500x50/val/'\n",
    "l = len(files)\n",
    "for i in range(l):\n",
    "  img = Image.open(path1+files[i])\n",
    "  img = img.resize((500,50))\n",
    "  img.save(path2+files[i])"
   ]
  },
  {
   "cell_type": "code",
   "execution_count": null,
   "metadata": {
    "id": "4gAmjD3ixlzF"
   },
   "outputs": [],
   "source": [
    "!cp dataset/val.csv dataset500x50/val.csv"
   ]
  },
  {
   "cell_type": "code",
   "execution_count": null,
   "metadata": {
    "id": "8N_FACaikvh4"
   },
   "outputs": [],
   "source": [
    "data_points = []\n",
    "path = 'dataset/train/'\n",
    "writers = os.listdir(path)\n",
    "for w in writers:\n",
    "  files = os.listdir(path+w+'/')\n",
    "  l = len(files)\n",
    "  for i in range(l):\n",
    "    for j in range(i+1,l):\n",
    "      data_points.append([w+'_'+files[i],w+'_'+files[j]])"
   ]
  },
  {
   "cell_type": "code",
   "execution_count": null,
   "metadata": {
    "id": "itgi2XzPlmew"
   },
   "outputs": [],
   "source": [
    "files_in_final = np.array(os.listdir('dataset500x50/train/'))\n",
    "num_files = len(files_in_final)"
   ]
  },
  {
   "cell_type": "code",
   "execution_count": null,
   "metadata": {
    "colab": {
     "base_uri": "https://localhost:8080/"
    },
    "id": "FTytbgE6yMkp",
    "outputId": "f6330c9e-ae6d-48b3-9f58-c2dd6e650fc5"
   },
   "outputs": [
    {
     "data": {
      "text/plain": [
       "44897"
      ]
     },
     "execution_count": 12,
     "metadata": {},
     "output_type": "execute_result"
    }
   ],
   "source": [
    "len(data_points)"
   ]
  },
  {
   "cell_type": "code",
   "execution_count": null,
   "metadata": {
    "id": "NCv5FxlgsF0y"
   },
   "outputs": [],
   "source": [
    "choice = np.random.choice(num_files,(50003,2))"
   ]
  },
  {
   "cell_type": "code",
   "execution_count": null,
   "metadata": {
    "id": "kIxuQJKAvFTp"
   },
   "outputs": [],
   "source": [
    "files = np.array([files_in_final[choice[:,0]],files_in_final[choice[:,1]]])"
   ]
  },
  {
   "cell_type": "code",
   "execution_count": null,
   "metadata": {
    "id": "WAGK_F3VvW1n"
   },
   "outputs": [],
   "source": [
    "files = files.T"
   ]
  },
  {
   "cell_type": "code",
   "execution_count": null,
   "metadata": {
    "colab": {
     "base_uri": "https://localhost:8080/"
    },
    "id": "8iD5aTEaybfo",
    "outputId": "12aca9ca-e547-444c-e3fe-95109c9a9985"
   },
   "outputs": [
    {
     "data": {
      "text/plain": [
       "array([['P640_B2.jpg', 'M1030_A4.jpg'],\n",
       "       ['M1054_A2.jpg', 'P190_B4.jpg'],\n",
       "       ['P639_B4.jpg', 'M939_B3.jpg'],\n",
       "       ...,\n",
       "       ['P660_B1.jpg', 'M1021_B0.jpg'],\n",
       "       ['P1145_B5.jpg', 'P1725_A4.jpg'],\n",
       "       ['M916_B1.jpg', 'P1386_A0.jpg']], dtype='<U12')"
      ]
     },
     "execution_count": 16,
     "metadata": {},
     "output_type": "execute_result"
    }
   ],
   "source": [
    "files"
   ]
  },
  {
   "cell_type": "code",
   "execution_count": null,
   "metadata": {
    "id": "BmI41YvIvbvu"
   },
   "outputs": [],
   "source": [
    "Y = []\n",
    "for i in range(50003):\n",
    "  if files[i,0].split(\"_\")[0] == files[i,1].split(\"_\")[0]:\n",
    "    Y.append(1)\n",
    "  else:\n",
    "    Y.append(0)"
   ]
  },
  {
   "cell_type": "code",
   "execution_count": null,
   "metadata": {
    "id": "YGigwtPsv2FN"
   },
   "outputs": [],
   "source": [
    "f = np.vstack([data_points,files])\n",
    "y_final = np.hstack([np.ones(len(data_points)),Y])"
   ]
  },
  {
   "cell_type": "code",
   "execution_count": null,
   "metadata": {
    "id": "-7W_miAzwXuq"
   },
   "outputs": [],
   "source": [
    "df = pd.DataFrame(f,columns = [\"image 1\",\"image 2\"])"
   ]
  },
  {
   "cell_type": "code",
   "execution_count": null,
   "metadata": {
    "id": "B90QemTAwkap"
   },
   "outputs": [],
   "source": [
    "df[\"labels\"] = y_final.astype(int)"
   ]
  },
  {
   "cell_type": "code",
   "execution_count": null,
   "metadata": {
    "id": "NOPu7x03wuLx"
   },
   "outputs": [],
   "source": [
    "df.to_csv(\"dataset500x50/train.csv\",index=False)"
   ]
  }
 ],
 "metadata": {
  "colab": {
   "provenance": []
  },
  "kernelspec": {
   "display_name": "Python 3 (ipykernel)",
   "language": "python",
   "name": "python3"
  },
  "language_info": {
   "codemirror_mode": {
    "name": "ipython",
    "version": 3
   },
   "file_extension": ".py",
   "mimetype": "text/x-python",
   "name": "python",
   "nbconvert_exporter": "python",
   "pygments_lexer": "ipython3",
   "version": "3.10.6"
  }
 },
 "nbformat": 4,
 "nbformat_minor": 1
}
