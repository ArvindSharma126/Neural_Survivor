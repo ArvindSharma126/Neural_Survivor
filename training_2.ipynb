{
 "cells": [
  {
   "cell_type": "code",
   "execution_count": null,
   "id": "08724480-2cfe-4d15-a778-689c89f8b463",
   "metadata": {
    "id": "08724480-2cfe-4d15-a778-689c89f8b463",
    "tags": []
   },
   "outputs": [],
   "source": [
    "from PIL import Image\n",
    "import numpy as np\n",
    "import pandas as pd\n",
    "import torch\n",
    "import torch.nn as nn\n",
    "import torch.optim as optim\n",
    "import torch.nn.functional as f\n",
    "import matplotlib.pyplot as plt\n",
    "from sklearn.metrics import roc_auc_score,f1_score,classification_report\n",
    "import os\n",
    "import gc"
   ]
  },
  {
   "cell_type": "code",
   "execution_count": null,
   "id": "1d94a2f0-1c6f-4b41-8a04-1b31d6842a83",
   "metadata": {
    "colab": {
     "base_uri": "https://localhost:8080/",
     "height": 206
    },
    "id": "1d94a2f0-1c6f-4b41-8a04-1b31d6842a83",
    "outputId": "853f67f9-321f-4cf3-80bc-0ae48c54f2eb"
   },
   "outputs": [
    {
     "data": {
      "text/html": [
       "\n",
       "  <div id=\"df-2cb0ce22-cb2d-4696-a340-0e4df06438a7\">\n",
       "    <div class=\"colab-df-container\">\n",
       "      <div>\n",
       "<style scoped>\n",
       "    .dataframe tbody tr th:only-of-type {\n",
       "        vertical-align: middle;\n",
       "    }\n",
       "\n",
       "    .dataframe tbody tr th {\n",
       "        vertical-align: top;\n",
       "    }\n",
       "\n",
       "    .dataframe thead th {\n",
       "        text-align: right;\n",
       "    }\n",
       "</style>\n",
       "<table border=\"1\" class=\"dataframe\">\n",
       "  <thead>\n",
       "    <tr style=\"text-align: right;\">\n",
       "      <th></th>\n",
       "      <th>img1_name</th>\n",
       "      <th>img2_name</th>\n",
       "      <th>label</th>\n",
       "    </tr>\n",
       "  </thead>\n",
       "  <tbody>\n",
       "    <tr>\n",
       "      <th>0</th>\n",
       "      <td>70a4ba9a.jpg</td>\n",
       "      <td>58f68a00.jpg</td>\n",
       "      <td>1</td>\n",
       "    </tr>\n",
       "    <tr>\n",
       "      <th>1</th>\n",
       "      <td>e15b612e.jpg</td>\n",
       "      <td>16ce5df2.jpg</td>\n",
       "      <td>0</td>\n",
       "    </tr>\n",
       "    <tr>\n",
       "      <th>2</th>\n",
       "      <td>6c64d988.jpg</td>\n",
       "      <td>735d3636.jpg</td>\n",
       "      <td>1</td>\n",
       "    </tr>\n",
       "    <tr>\n",
       "      <th>3</th>\n",
       "      <td>b74681a6.jpg</td>\n",
       "      <td>cb50496d.jpg</td>\n",
       "      <td>0</td>\n",
       "    </tr>\n",
       "    <tr>\n",
       "      <th>4</th>\n",
       "      <td>c97aa428.jpg</td>\n",
       "      <td>6f9dc747.jpg</td>\n",
       "      <td>1</td>\n",
       "    </tr>\n",
       "  </tbody>\n",
       "</table>\n",
       "</div>\n",
       "      <button class=\"colab-df-convert\" onclick=\"convertToInteractive('df-2cb0ce22-cb2d-4696-a340-0e4df06438a7')\"\n",
       "              title=\"Convert this dataframe to an interactive table.\"\n",
       "              style=\"display:none;\">\n",
       "        \n",
       "  <svg xmlns=\"http://www.w3.org/2000/svg\" height=\"24px\"viewBox=\"0 0 24 24\"\n",
       "       width=\"24px\">\n",
       "    <path d=\"M0 0h24v24H0V0z\" fill=\"none\"/>\n",
       "    <path d=\"M18.56 5.44l.94 2.06.94-2.06 2.06-.94-2.06-.94-.94-2.06-.94 2.06-2.06.94zm-11 1L8.5 8.5l.94-2.06 2.06-.94-2.06-.94L8.5 2.5l-.94 2.06-2.06.94zm10 10l.94 2.06.94-2.06 2.06-.94-2.06-.94-.94-2.06-.94 2.06-2.06.94z\"/><path d=\"M17.41 7.96l-1.37-1.37c-.4-.4-.92-.59-1.43-.59-.52 0-1.04.2-1.43.59L10.3 9.45l-7.72 7.72c-.78.78-.78 2.05 0 2.83L4 21.41c.39.39.9.59 1.41.59.51 0 1.02-.2 1.41-.59l7.78-7.78 2.81-2.81c.8-.78.8-2.07 0-2.86zM5.41 20L4 18.59l7.72-7.72 1.47 1.35L5.41 20z\"/>\n",
       "  </svg>\n",
       "      </button>\n",
       "      \n",
       "  <style>\n",
       "    .colab-df-container {\n",
       "      display:flex;\n",
       "      flex-wrap:wrap;\n",
       "      gap: 12px;\n",
       "    }\n",
       "\n",
       "    .colab-df-convert {\n",
       "      background-color: #E8F0FE;\n",
       "      border: none;\n",
       "      border-radius: 50%;\n",
       "      cursor: pointer;\n",
       "      display: none;\n",
       "      fill: #1967D2;\n",
       "      height: 32px;\n",
       "      padding: 0 0 0 0;\n",
       "      width: 32px;\n",
       "    }\n",
       "\n",
       "    .colab-df-convert:hover {\n",
       "      background-color: #E2EBFA;\n",
       "      box-shadow: 0px 1px 2px rgba(60, 64, 67, 0.3), 0px 1px 3px 1px rgba(60, 64, 67, 0.15);\n",
       "      fill: #174EA6;\n",
       "    }\n",
       "\n",
       "    [theme=dark] .colab-df-convert {\n",
       "      background-color: #3B4455;\n",
       "      fill: #D2E3FC;\n",
       "    }\n",
       "\n",
       "    [theme=dark] .colab-df-convert:hover {\n",
       "      background-color: #434B5C;\n",
       "      box-shadow: 0px 1px 3px 1px rgba(0, 0, 0, 0.15);\n",
       "      filter: drop-shadow(0px 1px 2px rgba(0, 0, 0, 0.3));\n",
       "      fill: #FFFFFF;\n",
       "    }\n",
       "  </style>\n",
       "\n",
       "      <script>\n",
       "        const buttonEl =\n",
       "          document.querySelector('#df-2cb0ce22-cb2d-4696-a340-0e4df06438a7 button.colab-df-convert');\n",
       "        buttonEl.style.display =\n",
       "          google.colab.kernel.accessAllowed ? 'block' : 'none';\n",
       "\n",
       "        async function convertToInteractive(key) {\n",
       "          const element = document.querySelector('#df-2cb0ce22-cb2d-4696-a340-0e4df06438a7');\n",
       "          const dataTable =\n",
       "            await google.colab.kernel.invokeFunction('convertToInteractive',\n",
       "                                                     [key], {});\n",
       "          if (!dataTable) return;\n",
       "\n",
       "          const docLinkHtml = 'Like what you see? Visit the ' +\n",
       "            '<a target=\"_blank\" href=https://colab.research.google.com/notebooks/data_table.ipynb>data table notebook</a>'\n",
       "            + ' to learn more about interactive tables.';\n",
       "          element.innerHTML = '';\n",
       "          dataTable['output_type'] = 'display_data';\n",
       "          await google.colab.output.renderOutput(dataTable, element);\n",
       "          const docLink = document.createElement('div');\n",
       "          docLink.innerHTML = docLinkHtml;\n",
       "          element.appendChild(docLink);\n",
       "        }\n",
       "      </script>\n",
       "    </div>\n",
       "  </div>\n",
       "  "
      ],
      "text/plain": [
       "      img1_name     img2_name  label\n",
       "0  70a4ba9a.jpg  58f68a00.jpg      1\n",
       "1  e15b612e.jpg  16ce5df2.jpg      0\n",
       "2  6c64d988.jpg  735d3636.jpg      1\n",
       "3  b74681a6.jpg  cb50496d.jpg      0\n",
       "4  c97aa428.jpg  6f9dc747.jpg      1"
      ]
     },
     "execution_count": 4,
     "metadata": {},
     "output_type": "execute_result"
    }
   ],
   "source": [
    "val_dataset = pd.read_csv(\"dataset500x50/val.csv\")\n",
    "val_dataset.head(5)"
   ]
  },
  {
   "cell_type": "code",
   "execution_count": null,
   "id": "adca7921-12d0-4b1d-a90b-0599c3257e38",
   "metadata": {
    "colab": {
     "base_uri": "https://localhost:8080/"
    },
    "id": "adca7921-12d0-4b1d-a90b-0599c3257e38",
    "outputId": "d38a7eae-4b3a-4ffd-850d-fb347e19e22d",
    "tags": []
   },
   "outputs": [
    {
     "data": {
      "text/plain": [
       "array([1, 0, 1, ..., 1, 1, 0])"
      ]
     },
     "execution_count": 5,
     "metadata": {},
     "output_type": "execute_result"
    }
   ],
   "source": [
    "output = val_dataset[\"label\"].values\n",
    "output"
   ]
  },
  {
   "cell_type": "code",
   "execution_count": null,
   "id": "139371ff-517b-4c9b-b827-f6d3a4ee77cd",
   "metadata": {
    "colab": {
     "base_uri": "https://localhost:8080/"
    },
    "id": "139371ff-517b-4c9b-b827-f6d3a4ee77cd",
    "outputId": "997a017f-a9ad-40c4-e7e7-d0fcb13c6d7a",
    "tags": []
   },
   "outputs": [
    {
     "data": {
      "text/plain": [
       "5770"
      ]
     },
     "execution_count": 7,
     "metadata": {},
     "output_type": "execute_result"
    }
   ],
   "source": [
    "len(output)"
   ]
  },
  {
   "cell_type": "code",
   "execution_count": null,
   "id": "3d43c023-e824-43f2-bbc6-aee13cc903d7",
   "metadata": {
    "id": "3d43c023-e824-43f2-bbc6-aee13cc903d7",
    "tags": []
   },
   "outputs": [],
   "source": [
    "imgs1 = val_dataset[\"img1_name\"].values\n",
    "imgs2 = val_dataset[\"img2_name\"].values"
   ]
  },
  {
   "cell_type": "code",
   "execution_count": null,
   "id": "e8c68a0d-7188-4937-acfc-e490c489c06f",
   "metadata": {
    "id": "e8c68a0d-7188-4937-acfc-e490c489c06f",
    "tags": []
   },
   "outputs": [],
   "source": [
    "final = []\n",
    "for i in range(577):\n",
    "    batch1 = []\n",
    "    batch2 = []\n",
    "    for j in range(10):\n",
    "        img1 = Image.open(\"dataset500x50/val/\"+imgs1[j+i*10])\n",
    "        img2 = Image.open(\"dataset500x50/val/\"+imgs2[j+i*10])\n",
    "        batch1.append([np.array(img1)])\n",
    "        batch2.append([np.array(img2)])\n",
    "    final.append([batch1,batch2])\n",
    "final = np.array(final)"
   ]
  },
  {
   "cell_type": "code",
   "execution_count": null,
   "id": "158d858a-5b51-4709-ac32-f52850e16566",
   "metadata": {
    "id": "158d858a-5b51-4709-ac32-f52850e16566",
    "tags": []
   },
   "outputs": [],
   "source": [
    "with open(\"data500x50/val_data.npy\",\"wb\") as f:\n",
    "    np.save(f,final)\n",
    "with open(\"data500x50/val_label.npy\",\"wb\") as f:\n",
    "    np.save(f,output)"
   ]
  },
  {
   "cell_type": "code",
   "execution_count": null,
   "id": "a16a9531-263c-4c1a-ba79-4a84b80f4a29",
   "metadata": {
    "colab": {
     "base_uri": "https://localhost:8080/",
     "height": 206
    },
    "id": "a16a9531-263c-4c1a-ba79-4a84b80f4a29",
    "outputId": "e1af3031-7566-4d25-fe96-ab59bede2e73",
    "tags": []
   },
   "outputs": [
    {
     "data": {
      "text/html": [
       "\n",
       "  <div id=\"df-ce59bf7e-acc1-491e-97eb-cc3bd2b0de16\">\n",
       "    <div class=\"colab-df-container\">\n",
       "      <div>\n",
       "<style scoped>\n",
       "    .dataframe tbody tr th:only-of-type {\n",
       "        vertical-align: middle;\n",
       "    }\n",
       "\n",
       "    .dataframe tbody tr th {\n",
       "        vertical-align: top;\n",
       "    }\n",
       "\n",
       "    .dataframe thead th {\n",
       "        text-align: right;\n",
       "    }\n",
       "</style>\n",
       "<table border=\"1\" class=\"dataframe\">\n",
       "  <thead>\n",
       "    <tr style=\"text-align: right;\">\n",
       "      <th></th>\n",
       "      <th>image 1</th>\n",
       "      <th>image 2</th>\n",
       "      <th>labels</th>\n",
       "    </tr>\n",
       "  </thead>\n",
       "  <tbody>\n",
       "    <tr>\n",
       "      <th>62080</th>\n",
       "      <td>P2440_B1.jpg</td>\n",
       "      <td>M966_B4.jpg</td>\n",
       "      <td>0</td>\n",
       "    </tr>\n",
       "    <tr>\n",
       "      <th>81207</th>\n",
       "      <td>P2054_B0.jpg</td>\n",
       "      <td>P1121_A1.jpg</td>\n",
       "      <td>0</td>\n",
       "    </tr>\n",
       "    <tr>\n",
       "      <th>83646</th>\n",
       "      <td>P771_A0.jpg</td>\n",
       "      <td>P546_B0.jpg</td>\n",
       "      <td>0</td>\n",
       "    </tr>\n",
       "    <tr>\n",
       "      <th>33112</th>\n",
       "      <td>P539_B1.jpg</td>\n",
       "      <td>P539_B2.jpg</td>\n",
       "      <td>1</td>\n",
       "    </tr>\n",
       "    <tr>\n",
       "      <th>42585</th>\n",
       "      <td>M888_B1.jpg</td>\n",
       "      <td>M888_B2.jpg</td>\n",
       "      <td>1</td>\n",
       "    </tr>\n",
       "  </tbody>\n",
       "</table>\n",
       "</div>\n",
       "      <button class=\"colab-df-convert\" onclick=\"convertToInteractive('df-ce59bf7e-acc1-491e-97eb-cc3bd2b0de16')\"\n",
       "              title=\"Convert this dataframe to an interactive table.\"\n",
       "              style=\"display:none;\">\n",
       "        \n",
       "  <svg xmlns=\"http://www.w3.org/2000/svg\" height=\"24px\"viewBox=\"0 0 24 24\"\n",
       "       width=\"24px\">\n",
       "    <path d=\"M0 0h24v24H0V0z\" fill=\"none\"/>\n",
       "    <path d=\"M18.56 5.44l.94 2.06.94-2.06 2.06-.94-2.06-.94-.94-2.06-.94 2.06-2.06.94zm-11 1L8.5 8.5l.94-2.06 2.06-.94-2.06-.94L8.5 2.5l-.94 2.06-2.06.94zm10 10l.94 2.06.94-2.06 2.06-.94-2.06-.94-.94-2.06-.94 2.06-2.06.94z\"/><path d=\"M17.41 7.96l-1.37-1.37c-.4-.4-.92-.59-1.43-.59-.52 0-1.04.2-1.43.59L10.3 9.45l-7.72 7.72c-.78.78-.78 2.05 0 2.83L4 21.41c.39.39.9.59 1.41.59.51 0 1.02-.2 1.41-.59l7.78-7.78 2.81-2.81c.8-.78.8-2.07 0-2.86zM5.41 20L4 18.59l7.72-7.72 1.47 1.35L5.41 20z\"/>\n",
       "  </svg>\n",
       "      </button>\n",
       "      \n",
       "  <style>\n",
       "    .colab-df-container {\n",
       "      display:flex;\n",
       "      flex-wrap:wrap;\n",
       "      gap: 12px;\n",
       "    }\n",
       "\n",
       "    .colab-df-convert {\n",
       "      background-color: #E8F0FE;\n",
       "      border: none;\n",
       "      border-radius: 50%;\n",
       "      cursor: pointer;\n",
       "      display: none;\n",
       "      fill: #1967D2;\n",
       "      height: 32px;\n",
       "      padding: 0 0 0 0;\n",
       "      width: 32px;\n",
       "    }\n",
       "\n",
       "    .colab-df-convert:hover {\n",
       "      background-color: #E2EBFA;\n",
       "      box-shadow: 0px 1px 2px rgba(60, 64, 67, 0.3), 0px 1px 3px 1px rgba(60, 64, 67, 0.15);\n",
       "      fill: #174EA6;\n",
       "    }\n",
       "\n",
       "    [theme=dark] .colab-df-convert {\n",
       "      background-color: #3B4455;\n",
       "      fill: #D2E3FC;\n",
       "    }\n",
       "\n",
       "    [theme=dark] .colab-df-convert:hover {\n",
       "      background-color: #434B5C;\n",
       "      box-shadow: 0px 1px 3px 1px rgba(0, 0, 0, 0.15);\n",
       "      filter: drop-shadow(0px 1px 2px rgba(0, 0, 0, 0.3));\n",
       "      fill: #FFFFFF;\n",
       "    }\n",
       "  </style>\n",
       "\n",
       "      <script>\n",
       "        const buttonEl =\n",
       "          document.querySelector('#df-ce59bf7e-acc1-491e-97eb-cc3bd2b0de16 button.colab-df-convert');\n",
       "        buttonEl.style.display =\n",
       "          google.colab.kernel.accessAllowed ? 'block' : 'none';\n",
       "\n",
       "        async function convertToInteractive(key) {\n",
       "          const element = document.querySelector('#df-ce59bf7e-acc1-491e-97eb-cc3bd2b0de16');\n",
       "          const dataTable =\n",
       "            await google.colab.kernel.invokeFunction('convertToInteractive',\n",
       "                                                     [key], {});\n",
       "          if (!dataTable) return;\n",
       "\n",
       "          const docLinkHtml = 'Like what you see? Visit the ' +\n",
       "            '<a target=\"_blank\" href=https://colab.research.google.com/notebooks/data_table.ipynb>data table notebook</a>'\n",
       "            + ' to learn more about interactive tables.';\n",
       "          element.innerHTML = '';\n",
       "          dataTable['output_type'] = 'display_data';\n",
       "          await google.colab.output.renderOutput(dataTable, element);\n",
       "          const docLink = document.createElement('div');\n",
       "          docLink.innerHTML = docLinkHtml;\n",
       "          element.appendChild(docLink);\n",
       "        }\n",
       "      </script>\n",
       "    </div>\n",
       "  </div>\n",
       "  "
      ],
      "text/plain": [
       "            image 1       image 2  labels\n",
       "62080  P2440_B1.jpg   M966_B4.jpg       0\n",
       "81207  P2054_B0.jpg  P1121_A1.jpg       0\n",
       "83646   P771_A0.jpg   P546_B0.jpg       0\n",
       "33112   P539_B1.jpg   P539_B2.jpg       1\n",
       "42585   M888_B1.jpg   M888_B2.jpg       1"
      ]
     },
     "execution_count": 13,
     "metadata": {},
     "output_type": "execute_result"
    }
   ],
   "source": [
    "train_dataset = pd.read_csv(\"dataset500x50/train.csv\")\n",
    "train_dataset = train_dataset.sample(frac = 1)\n",
    "train_dataset.head()"
   ]
  },
  {
   "cell_type": "code",
   "execution_count": null,
   "id": "f4bd43be-5e0d-4c16-8fcb-5feb6ab34ae4",
   "metadata": {
    "id": "f4bd43be-5e0d-4c16-8fcb-5feb6ab34ae4",
    "tags": []
   },
   "outputs": [],
   "source": [
    "output = train_dataset[\"labels\"].values\n",
    "imgs1 = train_dataset[\"image 1\"].values\n",
    "imgs2 = train_dataset[\"image 2\"].values"
   ]
  },
  {
   "cell_type": "code",
   "execution_count": null,
   "id": "50805dd3-bfbd-4247-8e60-89d81510a4f7",
   "metadata": {
    "id": "50805dd3-bfbd-4247-8e60-89d81510a4f7",
    "tags": []
   },
   "outputs": [],
   "source": [
    "file_list = os.listdir(\"train/\")\n",
    "files = np.random.choice(file_list,(3,2))"
   ]
  },
  {
   "cell_type": "code",
   "execution_count": null,
   "id": "836fdf6e-61e8-49ad-b7a8-59be628c1a3d",
   "metadata": {
    "id": "836fdf6e-61e8-49ad-b7a8-59be628c1a3d",
    "outputId": "7ac821be-de2f-4d1a-bb19-b214367167ee",
    "tags": []
   },
   "outputs": [
    {
     "data": {
      "text/plain": [
       "array([['P1963_B0.jpg', 'P1186_B4.jpg'],\n",
       "       ['P1226_A3.jpg', 'M992_B1.jpg'],\n",
       "       ['P2215_B0.jpg', 'M835_B5.jpg']], dtype='<U12')"
      ]
     },
     "execution_count": 5,
     "metadata": {},
     "output_type": "execute_result"
    }
   ],
   "source": [
    "files"
   ]
  },
  {
   "cell_type": "code",
   "execution_count": null,
   "id": "a57ace51-4067-4ad6-8fd3-340f3b2ca704",
   "metadata": {
    "id": "a57ace51-4067-4ad6-8fd3-340f3b2ca704",
    "tags": []
   },
   "outputs": [],
   "source": [
    "imgs1 = np.append(imgs1,files[:,0])\n",
    "imgs2 = np.append(imgs2,files[:,1])\n",
    "output = np.append(output,np.zeros((3,)))"
   ]
  },
  {
   "cell_type": "code",
   "execution_count": null,
   "id": "35e9001c-fa90-41c4-928a-9958311bc277",
   "metadata": {
    "id": "35e9001c-fa90-41c4-928a-9958311bc277",
    "outputId": "31e15811-c0c8-4ab3-c57b-0bed0cf0d943",
    "tags": []
   },
   "outputs": [
    {
     "data": {
      "text/plain": [
       "94900"
      ]
     },
     "execution_count": 15,
     "metadata": {},
     "output_type": "execute_result"
    }
   ],
   "source": [
    "len(output)"
   ]
  },
  {
   "cell_type": "code",
   "execution_count": null,
   "id": "041f7549-df39-4546-8408-3a984ec403b5",
   "metadata": {
    "id": "041f7549-df39-4546-8408-3a984ec403b5",
    "tags": []
   },
   "outputs": [],
   "source": [
    "final = []\n",
    "final_labels =[]\n",
    "for i in range(1898):\n",
    "    batch1 = []\n",
    "    batch2 = []\n",
    "    labels = []\n",
    "    for j in range(50):\n",
    "        img1 = Image.open(\"dataset500x50/train/\"+imgs1[j+i*50])\n",
    "        img2 = Image.open(\"dataset500x50/train/\"+imgs2[j+i*50])\n",
    "        batch1.append([np.array(img1)])\n",
    "        batch2.append([np.array(img2)])\n",
    "        labels.append(output[j+i*50])\n",
    "    final.append([batch1,batch2])\n",
    "    final_labels.append(labels)\n",
    "final = np.array(final)"
   ]
  },
  {
   "cell_type": "code",
   "execution_count": null,
   "id": "38591737-aa99-4e85-a7a9-3574bd43eb1a",
   "metadata": {
    "id": "38591737-aa99-4e85-a7a9-3574bd43eb1a",
    "tags": []
   },
   "outputs": [],
   "source": [
    "final_labels = np.array(final_labels)"
   ]
  },
  {
   "cell_type": "code",
   "execution_count": null,
   "id": "a175d8b7-2de9-4ac8-a76f-8e16f774715a",
   "metadata": {
    "id": "a175d8b7-2de9-4ac8-a76f-8e16f774715a",
    "tags": []
   },
   "outputs": [],
   "source": [
    "with open(\"data500x50/train_data.npy\",\"wb\") as f:\n",
    "    np.save(f,final)\n",
    "with open(\"data500x50/train_label.npy\",\"wb\") as f:\n",
    "    np.save(f,final_labels)"
   ]
  }
 ],
 "metadata": {
  "colab": {
   "gpuType": "T4",
   "provenance": []
  },
  "gpuClass": "standard",
  "kernelspec": {
   "display_name": "Python 3 (ipykernel)",
   "language": "python",
   "name": "python3"
  },
  "language_info": {
   "codemirror_mode": {
    "name": "ipython",
    "version": 3
   },
   "file_extension": ".py",
   "mimetype": "text/x-python",
   "name": "python",
   "nbconvert_exporter": "python",
   "pygments_lexer": "ipython3",
   "version": "3.10.6"
  }
 },
 "nbformat": 4,
 "nbformat_minor": 5
}
