{
  "nbformat": 4,
  "nbformat_minor": 0,
  "metadata": {
    "colab": {
      "provenance": []
    },
    "kernelspec": {
      "name": "python3",
      "display_name": "Python 3"
    },
    "language_info": {
      "name": "python"
    }
  },
  "cells": [
    {
      "cell_type": "code",
      "source": [
        "import torch\n",
        "import torch.nn as nn\n",
        "import torch.optim as optim\n",
        "import torch.nn.functional as f\n",
        "import pickle\n",
        "from sklearn.neighbors import KNeighborsClassifier\n",
        "import numpy as np"
      ],
      "metadata": {
        "id": "DVJvYKmtpY7F"
      },
      "execution_count": null,
      "outputs": []
    },
    {
      "cell_type": "code",
      "source": [
        "!unzip dataset100.zip"
      ],
      "metadata": {
        "colab": {
          "base_uri": "https://localhost:8080/"
        },
        "id": "MYKUbqmeu1vL",
        "outputId": "d8718ce3-bd16-4dc1-c490-8bc76cbce5da"
      },
      "execution_count": null,
      "outputs": [
        {
          "output_type": "stream",
          "name": "stdout",
          "text": [
            "Archive:  dataset100.zip\n",
            "  inflating: train_X.npy             \n",
            "  inflating: train_Y.npy             \n"
          ]
        }
      ]
    },
    {
      "cell_type": "code",
      "source": [
        "torch_model = torch.load(\"/content/drive/MyDrive/writer verification/best_auc_model.pth\",map_location=torch.device('cpu'))"
      ],
      "metadata": {
        "id": "bgYvGXpIpSOs"
      },
      "execution_count": null,
      "outputs": []
    },
    {
      "cell_type": "code",
      "source": [
        "actual_model = torch_model.feature_ext"
      ],
      "metadata": {
        "id": "d8i5m9K0vfdm"
      },
      "execution_count": null,
      "outputs": []
    },
    {
      "cell_type": "code",
      "source": [
        "model = pickle.load(open('/content/drive/MyDrive/writer verification/writer_verification_model.sav','rb'))"
      ],
      "metadata": {
        "id": "HngzwVip_bKI"
      },
      "execution_count": null,
      "outputs": []
    },
    {
      "cell_type": "code",
      "source": [
        "actual_model"
      ],
      "metadata": {
        "colab": {
          "base_uri": "https://localhost:8080/"
        },
        "id": "P_gpZTwhvl1x",
        "outputId": "21e6e7e7-d385-4afd-806c-267706d5d21a"
      },
      "execution_count": null,
      "outputs": [
        {
          "output_type": "execute_result",
          "data": {
            "text/plain": [
              "Sequential(\n",
              "  (0): Conv2d(1, 5, kernel_size=(5, 5), stride=(1, 1), padding=(2, 2))\n",
              "  (1): ReLU()\n",
              "  (2): Conv2d(5, 10, kernel_size=(5, 5), stride=(1, 1), padding=(2, 2))\n",
              "  (3): MaxPool2d(kernel_size=2, stride=2, padding=0, dilation=1, ceil_mode=False)\n",
              "  (4): Conv2d(10, 15, kernel_size=(3, 3), stride=(1, 1), padding=(1, 1))\n",
              "  (5): ReLU()\n",
              "  (6): Conv2d(15, 20, kernel_size=(3, 3), stride=(1, 1), padding=(1, 1))\n",
              "  (7): MaxPool2d(kernel_size=2, stride=2, padding=0, dilation=1, ceil_mode=False)\n",
              "  (8): Flatten(start_dim=1, end_dim=-1)\n",
              "  (9): Linear(in_features=30000, out_features=5000, bias=True)\n",
              "  (10): ReLU()\n",
              "  (11): Linear(in_features=5000, out_features=1000, bias=True)\n",
              ")"
            ]
          },
          "metadata": {},
          "execution_count": 12
        }
      ]
    },
    {
      "cell_type": "code",
      "source": [
        "np.load('train_X.npy').shape\n"
      ],
      "metadata": {
        "colab": {
          "base_uri": "https://localhost:8080/"
        },
        "id": "EC3srPysvtQl",
        "outputId": "06db9266-681c-44a4-812b-d303d2f180ee"
      },
      "execution_count": null,
      "outputs": [
        {
          "output_type": "execute_result",
          "data": {
            "text/plain": [
              "(94900, 1000)"
            ]
          },
          "metadata": {},
          "execution_count": 19
        }
      ]
    },
    {
      "cell_type": "code",
      "source": [
        "clk = KNeighborsClassifier(n_neighbors=435).fit(np.load('train_X.npy'),np.load('train_Y.npy').ravel())"
      ],
      "metadata": {
        "id": "xWXNbq1M8ooD"
      },
      "execution_count": null,
      "outputs": []
    },
    {
      "cell_type": "code",
      "source": [
        "pickle.dump((actual_model,clk),open('/content/drive/MyDrive/writer verification/writer_verification_model.sav','wb'))"
      ],
      "metadata": {
        "id": "ojKodnMlAJe0"
      },
      "execution_count": null,
      "outputs": []
    },
    {
      "cell_type": "code",
      "source": [
        "!mv writer_verification_model.sav drive/MyDrive/writer\\ verification/writer_verification_model.sav"
      ],
      "metadata": {
        "id": "OSOa4x9Z9qBp"
      },
      "execution_count": null,
      "outputs": []
    }
  ]
}