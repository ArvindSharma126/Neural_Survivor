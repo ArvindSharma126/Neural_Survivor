{
 "cells": [
  {
   "cell_type": "code",
   "execution_count": 1,
   "metadata": {
    "executionInfo": {
     "elapsed": 5872,
     "status": "ok",
     "timestamp": 1688017342297,
     "user": {
      "displayName": "Arvind Kumar Sharma (B21AI006)",
      "userId": "06998917017135981528"
     },
     "user_tz": -330
    },
    "id": "eHcKXk3n-Z9M"
   },
   "outputs": [],
   "source": [
    "import pickle\n",
    "import torch\n",
    "import numpy as np\n",
    "import pandas as pd\n",
    "from PIL import Image"
   ]
  },
  {
   "cell_type": "code",
   "execution_count": 2,
   "metadata": {
    "executionInfo": {
     "elapsed": 15438,
     "status": "ok",
     "timestamp": 1688017359406,
     "user": {
      "displayName": "Arvind Kumar Sharma (B21AI006)",
      "userId": "06998917017135981528"
     },
     "user_tz": -330
    },
    "id": "Ri6UGMDY-j5L"
   },
   "outputs": [],
   "source": [
    "model = pickle.load(open('writer_varification_model.sav','rb'))"
   ]
  },
  {
   "cell_type": "code",
   "execution_count": 3,
   "metadata": {
    "colab": {
     "base_uri": "https://localhost:8080/"
    },
    "executionInfo": {
     "elapsed": 19,
     "status": "ok",
     "timestamp": 1688017359406,
     "user": {
      "displayName": "Arvind Kumar Sharma (B21AI006)",
      "userId": "06998917017135981528"
     },
     "user_tz": -330
    },
    "id": "9gYhP9IdA1JK",
    "outputId": "dc22e0c0-9c64-46c4-dbed-7eed8eee1147"
   },
   "outputs": [
    {
     "data": {
      "text/plain": [
       "(Sequential(\n",
       "   (0): Conv2d(1, 5, kernel_size=(5, 5), stride=(1, 1), padding=(2, 2))\n",
       "   (1): ReLU()\n",
       "   (2): Conv2d(5, 10, kernel_size=(5, 5), stride=(1, 1), padding=(2, 2))\n",
       "   (3): MaxPool2d(kernel_size=2, stride=2, padding=0, dilation=1, ceil_mode=False)\n",
       "   (4): Conv2d(10, 15, kernel_size=(3, 3), stride=(1, 1), padding=(1, 1))\n",
       "   (5): ReLU()\n",
       "   (6): Conv2d(15, 20, kernel_size=(3, 3), stride=(1, 1), padding=(1, 1))\n",
       "   (7): MaxPool2d(kernel_size=2, stride=2, padding=0, dilation=1, ceil_mode=False)\n",
       "   (8): Flatten(start_dim=1, end_dim=-1)\n",
       "   (9): Linear(in_features=30000, out_features=5000, bias=True)\n",
       "   (10): ReLU()\n",
       "   (11): Linear(in_features=5000, out_features=1000, bias=True)\n",
       " ),\n",
       " KNeighborsClassifier(n_neighbors=435))"
      ]
     },
     "execution_count": 3,
     "metadata": {},
     "output_type": "execute_result"
    }
   ],
   "source": [
    "model"
   ]
  },
  {
   "cell_type": "code",
   "execution_count": 7,
   "metadata": {
    "colab": {
     "base_uri": "https://localhost:8080/",
     "height": 206
    },
    "executionInfo": {
     "elapsed": 5,
     "status": "ok",
     "timestamp": 1688017364072,
     "user": {
      "displayName": "Arvind Kumar Sharma (B21AI006)",
      "userId": "06998917017135981528"
     },
     "user_tz": -330
    },
    "id": "Gh-JTH9TnQA_",
    "outputId": "875e0e9e-6fea-4667-c857-783b79bb351c"
   },
   "outputs": [
    {
     "data": {
      "text/html": [
       "\n",
       "  <div id=\"df-222440da-b930-4fc0-8d34-866f05a014df\">\n",
       "    <div class=\"colab-df-container\">\n",
       "      <div>\n",
       "<style scoped>\n",
       "    .dataframe tbody tr th:only-of-type {\n",
       "        vertical-align: middle;\n",
       "    }\n",
       "\n",
       "    .dataframe tbody tr th {\n",
       "        vertical-align: top;\n",
       "    }\n",
       "\n",
       "    .dataframe thead th {\n",
       "        text-align: right;\n",
       "    }\n",
       "</style>\n",
       "<table border=\"1\" class=\"dataframe\">\n",
       "  <thead>\n",
       "    <tr style=\"text-align: right;\">\n",
       "      <th></th>\n",
       "      <th>img1_name</th>\n",
       "      <th>img2_name</th>\n",
       "    </tr>\n",
       "  </thead>\n",
       "  <tbody>\n",
       "    <tr>\n",
       "      <th>0</th>\n",
       "      <td>3861e092.jpg</td>\n",
       "      <td>b642bddc.jpg</td>\n",
       "    </tr>\n",
       "    <tr>\n",
       "      <th>1</th>\n",
       "      <td>776e0055.jpg</td>\n",
       "      <td>2d4e7d20.jpg</td>\n",
       "    </tr>\n",
       "    <tr>\n",
       "      <th>2</th>\n",
       "      <td>4bb7f909.jpg</td>\n",
       "      <td>af1b0fbf.jpg</td>\n",
       "    </tr>\n",
       "    <tr>\n",
       "      <th>3</th>\n",
       "      <td>0abee1d8.jpg</td>\n",
       "      <td>1c2641c9.jpg</td>\n",
       "    </tr>\n",
       "    <tr>\n",
       "      <th>4</th>\n",
       "      <td>1e18f51e.jpg</td>\n",
       "      <td>9fcf5c47.jpg</td>\n",
       "    </tr>\n",
       "  </tbody>\n",
       "</table>\n",
       "</div>\n",
       "      <button class=\"colab-df-convert\" onclick=\"convertToInteractive('df-222440da-b930-4fc0-8d34-866f05a014df')\"\n",
       "              title=\"Convert this dataframe to an interactive table.\"\n",
       "              style=\"display:none;\">\n",
       "        \n",
       "  <svg xmlns=\"http://www.w3.org/2000/svg\" height=\"24px\"viewBox=\"0 0 24 24\"\n",
       "       width=\"24px\">\n",
       "    <path d=\"M0 0h24v24H0V0z\" fill=\"none\"/>\n",
       "    <path d=\"M18.56 5.44l.94 2.06.94-2.06 2.06-.94-2.06-.94-.94-2.06-.94 2.06-2.06.94zm-11 1L8.5 8.5l.94-2.06 2.06-.94-2.06-.94L8.5 2.5l-.94 2.06-2.06.94zm10 10l.94 2.06.94-2.06 2.06-.94-2.06-.94-.94-2.06-.94 2.06-2.06.94z\"/><path d=\"M17.41 7.96l-1.37-1.37c-.4-.4-.92-.59-1.43-.59-.52 0-1.04.2-1.43.59L10.3 9.45l-7.72 7.72c-.78.78-.78 2.05 0 2.83L4 21.41c.39.39.9.59 1.41.59.51 0 1.02-.2 1.41-.59l7.78-7.78 2.81-2.81c.8-.78.8-2.07 0-2.86zM5.41 20L4 18.59l7.72-7.72 1.47 1.35L5.41 20z\"/>\n",
       "  </svg>\n",
       "      </button>\n",
       "      \n",
       "  <style>\n",
       "    .colab-df-container {\n",
       "      display:flex;\n",
       "      flex-wrap:wrap;\n",
       "      gap: 12px;\n",
       "    }\n",
       "\n",
       "    .colab-df-convert {\n",
       "      background-color: #E8F0FE;\n",
       "      border: none;\n",
       "      border-radius: 50%;\n",
       "      cursor: pointer;\n",
       "      display: none;\n",
       "      fill: #1967D2;\n",
       "      height: 32px;\n",
       "      padding: 0 0 0 0;\n",
       "      width: 32px;\n",
       "    }\n",
       "\n",
       "    .colab-df-convert:hover {\n",
       "      background-color: #E2EBFA;\n",
       "      box-shadow: 0px 1px 2px rgba(60, 64, 67, 0.3), 0px 1px 3px 1px rgba(60, 64, 67, 0.15);\n",
       "      fill: #174EA6;\n",
       "    }\n",
       "\n",
       "    [theme=dark] .colab-df-convert {\n",
       "      background-color: #3B4455;\n",
       "      fill: #D2E3FC;\n",
       "    }\n",
       "\n",
       "    [theme=dark] .colab-df-convert:hover {\n",
       "      background-color: #434B5C;\n",
       "      box-shadow: 0px 1px 3px 1px rgba(0, 0, 0, 0.15);\n",
       "      filter: drop-shadow(0px 1px 2px rgba(0, 0, 0, 0.3));\n",
       "      fill: #FFFFFF;\n",
       "    }\n",
       "  </style>\n",
       "\n",
       "      <script>\n",
       "        const buttonEl =\n",
       "          document.querySelector('#df-222440da-b930-4fc0-8d34-866f05a014df button.colab-df-convert');\n",
       "        buttonEl.style.display =\n",
       "          google.colab.kernel.accessAllowed ? 'block' : 'none';\n",
       "\n",
       "        async function convertToInteractive(key) {\n",
       "          const element = document.querySelector('#df-222440da-b930-4fc0-8d34-866f05a014df');\n",
       "          const dataTable =\n",
       "            await google.colab.kernel.invokeFunction('convertToInteractive',\n",
       "                                                     [key], {});\n",
       "          if (!dataTable) return;\n",
       "\n",
       "          const docLinkHtml = 'Like what you see? Visit the ' +\n",
       "            '<a target=\"_blank\" href=https://colab.research.google.com/notebooks/data_table.ipynb>data table notebook</a>'\n",
       "            + ' to learn more about interactive tables.';\n",
       "          element.innerHTML = '';\n",
       "          dataTable['output_type'] = 'display_data';\n",
       "          await google.colab.output.renderOutput(dataTable, element);\n",
       "          const docLink = document.createElement('div');\n",
       "          docLink.innerHTML = docLinkHtml;\n",
       "          element.appendChild(docLink);\n",
       "        }\n",
       "      </script>\n",
       "    </div>\n",
       "  </div>\n",
       "  "
      ],
      "text/plain": [
       "      img1_name     img2_name\n",
       "0  3861e092.jpg  b642bddc.jpg\n",
       "1  776e0055.jpg  2d4e7d20.jpg\n",
       "2  4bb7f909.jpg  af1b0fbf.jpg\n",
       "3  0abee1d8.jpg  1c2641c9.jpg\n",
       "4  1e18f51e.jpg  9fcf5c47.jpg"
      ]
     },
     "execution_count": 7,
     "metadata": {},
     "output_type": "execute_result"
    }
   ],
   "source": [
    "test_set = pd.read_csv('test.csv')\n",
    "test_set.head()"
   ]
  },
  {
   "cell_type": "code",
   "execution_count": 8,
   "metadata": {
    "colab": {
     "base_uri": "https://localhost:8080/"
    },
    "executionInfo": {
     "elapsed": 878269,
     "status": "ok",
     "timestamp": 1688020185158,
     "user": {
      "displayName": "Arvind Kumar Sharma (B21AI006)",
      "userId": "06998917017135981528"
     },
     "user_tz": -330
    },
    "id": "X3IdOClpndmb",
    "outputId": "e9b29bff-5482-4d8a-a2f0-6f084393c253"
   },
   "outputs": [
    {
     "name": "stdout",
     "output_type": "stream",
     "text": [
      "99.9906"
     ]
    }
   ],
   "source": [
    "output = []\n",
    "root = 'semi_test/'\n",
    "l = len(test_set)\n",
    "model_1 = model[0]\n",
    "model_2 = model[1]\n",
    "for i in range(l):\n",
    "  img_1 = test_set.iloc[i,0]\n",
    "  img_2 = test_set.iloc[i,1]\n",
    "  id = img_1+'_'+img_2\n",
    "  img_1 = Image.open(root+img_1).resize((500,50))\n",
    "  img_2 = Image.open(root+img_2).resize((500,50))\n",
    "  X1 = np.array([[np.array(img_1)]])\n",
    "  X2 = np.array([[np.array(img_2)]])\n",
    "  with torch.inference_mode(True):\n",
    "    fea1 = model_1(torch.tensor(X1).float()).cpu().numpy()\n",
    "    fea2 = model_1(torch.tensor(X2).float()).cpu().numpy()\n",
    "  diff = np.abs(fea1-fea2)\n",
    "  proba = model_2.predict_proba(diff)\n",
    "  output.append((id,proba))\n",
    "  print(f'\\r{100*i/l:.4f}',end='')"
   ]
  },
  {
   "cell_type": "code",
   "execution_count": 13,
   "metadata": {
    "executionInfo": {
     "elapsed": 510,
     "status": "ok",
     "timestamp": 1688020668014,
     "user": {
      "displayName": "Arvind Kumar Sharma (B21AI006)",
      "userId": "06998917017135981528"
     },
     "user_tz": -330
    },
    "id": "eW7180r-2888"
   },
   "outputs": [],
   "source": [
    "id = []\n",
    "proba = []\n",
    "for i,p in output:\n",
    "  id.append(i)\n",
    "  proba.append(p[0][1])"
   ]
  },
  {
   "cell_type": "code",
   "execution_count": 15,
   "metadata": {
    "executionInfo": {
     "elapsed": 439,
     "status": "ok",
     "timestamp": 1688020754222,
     "user": {
      "displayName": "Arvind Kumar Sharma (B21AI006)",
      "userId": "06998917017135981528"
     },
     "user_tz": -330
    },
    "id": "FXnXpm_r4D3S"
   },
   "outputs": [],
   "source": [
    "submision = pd.DataFrame([])"
   ]
  },
  {
   "cell_type": "code",
   "execution_count": 17,
   "metadata": {
    "colab": {
     "base_uri": "https://localhost:8080/",
     "height": 206
    },
    "executionInfo": {
     "elapsed": 6,
     "status": "ok",
     "timestamp": 1688020804731,
     "user": {
      "displayName": "Arvind Kumar Sharma (B21AI006)",
      "userId": "06998917017135981528"
     },
     "user_tz": -330
    },
    "id": "M5CLoa_z4KL8",
    "outputId": "2805b63f-8544-476b-f2a7-c01ceceee82f"
   },
   "outputs": [
    {
     "data": {
      "text/html": [
       "\n",
       "  <div id=\"df-c2f242b1-9ef4-4fac-bf84-994897e9b318\">\n",
       "    <div class=\"colab-df-container\">\n",
       "      <div>\n",
       "<style scoped>\n",
       "    .dataframe tbody tr th:only-of-type {\n",
       "        vertical-align: middle;\n",
       "    }\n",
       "\n",
       "    .dataframe tbody tr th {\n",
       "        vertical-align: top;\n",
       "    }\n",
       "\n",
       "    .dataframe thead th {\n",
       "        text-align: right;\n",
       "    }\n",
       "</style>\n",
       "<table border=\"1\" class=\"dataframe\">\n",
       "  <thead>\n",
       "    <tr style=\"text-align: right;\">\n",
       "      <th></th>\n",
       "      <th>id</th>\n",
       "      <th>proba</th>\n",
       "    </tr>\n",
       "  </thead>\n",
       "  <tbody>\n",
       "    <tr>\n",
       "      <th>0</th>\n",
       "      <td>3861e092.jpg_b642bddc.jpg</td>\n",
       "      <td>0.947126</td>\n",
       "    </tr>\n",
       "    <tr>\n",
       "      <th>1</th>\n",
       "      <td>776e0055.jpg_2d4e7d20.jpg</td>\n",
       "      <td>0.866667</td>\n",
       "    </tr>\n",
       "    <tr>\n",
       "      <th>2</th>\n",
       "      <td>4bb7f909.jpg_af1b0fbf.jpg</td>\n",
       "      <td>0.179310</td>\n",
       "    </tr>\n",
       "    <tr>\n",
       "      <th>3</th>\n",
       "      <td>0abee1d8.jpg_1c2641c9.jpg</td>\n",
       "      <td>0.836782</td>\n",
       "    </tr>\n",
       "    <tr>\n",
       "      <th>4</th>\n",
       "      <td>1e18f51e.jpg_9fcf5c47.jpg</td>\n",
       "      <td>0.000000</td>\n",
       "    </tr>\n",
       "  </tbody>\n",
       "</table>\n",
       "</div>\n",
       "      <button class=\"colab-df-convert\" onclick=\"convertToInteractive('df-c2f242b1-9ef4-4fac-bf84-994897e9b318')\"\n",
       "              title=\"Convert this dataframe to an interactive table.\"\n",
       "              style=\"display:none;\">\n",
       "        \n",
       "  <svg xmlns=\"http://www.w3.org/2000/svg\" height=\"24px\"viewBox=\"0 0 24 24\"\n",
       "       width=\"24px\">\n",
       "    <path d=\"M0 0h24v24H0V0z\" fill=\"none\"/>\n",
       "    <path d=\"M18.56 5.44l.94 2.06.94-2.06 2.06-.94-2.06-.94-.94-2.06-.94 2.06-2.06.94zm-11 1L8.5 8.5l.94-2.06 2.06-.94-2.06-.94L8.5 2.5l-.94 2.06-2.06.94zm10 10l.94 2.06.94-2.06 2.06-.94-2.06-.94-.94-2.06-.94 2.06-2.06.94z\"/><path d=\"M17.41 7.96l-1.37-1.37c-.4-.4-.92-.59-1.43-.59-.52 0-1.04.2-1.43.59L10.3 9.45l-7.72 7.72c-.78.78-.78 2.05 0 2.83L4 21.41c.39.39.9.59 1.41.59.51 0 1.02-.2 1.41-.59l7.78-7.78 2.81-2.81c.8-.78.8-2.07 0-2.86zM5.41 20L4 18.59l7.72-7.72 1.47 1.35L5.41 20z\"/>\n",
       "  </svg>\n",
       "      </button>\n",
       "      \n",
       "  <style>\n",
       "    .colab-df-container {\n",
       "      display:flex;\n",
       "      flex-wrap:wrap;\n",
       "      gap: 12px;\n",
       "    }\n",
       "\n",
       "    .colab-df-convert {\n",
       "      background-color: #E8F0FE;\n",
       "      border: none;\n",
       "      border-radius: 50%;\n",
       "      cursor: pointer;\n",
       "      display: none;\n",
       "      fill: #1967D2;\n",
       "      height: 32px;\n",
       "      padding: 0 0 0 0;\n",
       "      width: 32px;\n",
       "    }\n",
       "\n",
       "    .colab-df-convert:hover {\n",
       "      background-color: #E2EBFA;\n",
       "      box-shadow: 0px 1px 2px rgba(60, 64, 67, 0.3), 0px 1px 3px 1px rgba(60, 64, 67, 0.15);\n",
       "      fill: #174EA6;\n",
       "    }\n",
       "\n",
       "    [theme=dark] .colab-df-convert {\n",
       "      background-color: #3B4455;\n",
       "      fill: #D2E3FC;\n",
       "    }\n",
       "\n",
       "    [theme=dark] .colab-df-convert:hover {\n",
       "      background-color: #434B5C;\n",
       "      box-shadow: 0px 1px 3px 1px rgba(0, 0, 0, 0.15);\n",
       "      filter: drop-shadow(0px 1px 2px rgba(0, 0, 0, 0.3));\n",
       "      fill: #FFFFFF;\n",
       "    }\n",
       "  </style>\n",
       "\n",
       "      <script>\n",
       "        const buttonEl =\n",
       "          document.querySelector('#df-c2f242b1-9ef4-4fac-bf84-994897e9b318 button.colab-df-convert');\n",
       "        buttonEl.style.display =\n",
       "          google.colab.kernel.accessAllowed ? 'block' : 'none';\n",
       "\n",
       "        async function convertToInteractive(key) {\n",
       "          const element = document.querySelector('#df-c2f242b1-9ef4-4fac-bf84-994897e9b318');\n",
       "          const dataTable =\n",
       "            await google.colab.kernel.invokeFunction('convertToInteractive',\n",
       "                                                     [key], {});\n",
       "          if (!dataTable) return;\n",
       "\n",
       "          const docLinkHtml = 'Like what you see? Visit the ' +\n",
       "            '<a target=\"_blank\" href=https://colab.research.google.com/notebooks/data_table.ipynb>data table notebook</a>'\n",
       "            + ' to learn more about interactive tables.';\n",
       "          element.innerHTML = '';\n",
       "          dataTable['output_type'] = 'display_data';\n",
       "          await google.colab.output.renderOutput(dataTable, element);\n",
       "          const docLink = document.createElement('div');\n",
       "          docLink.innerHTML = docLinkHtml;\n",
       "          element.appendChild(docLink);\n",
       "        }\n",
       "      </script>\n",
       "    </div>\n",
       "  </div>\n",
       "  "
      ],
      "text/plain": [
       "                          id     proba\n",
       "0  3861e092.jpg_b642bddc.jpg  0.947126\n",
       "1  776e0055.jpg_2d4e7d20.jpg  0.866667\n",
       "2  4bb7f909.jpg_af1b0fbf.jpg  0.179310\n",
       "3  0abee1d8.jpg_1c2641c9.jpg  0.836782\n",
       "4  1e18f51e.jpg_9fcf5c47.jpg  0.000000"
      ]
     },
     "execution_count": 17,
     "metadata": {},
     "output_type": "execute_result"
    }
   ],
   "source": [
    "submision['id'] = id\n",
    "submision['proba'] = proba\n",
    "submision.head()"
   ]
  },
  {
   "cell_type": "code",
   "execution_count": 20,
   "metadata": {
    "executionInfo": {
     "elapsed": 717,
     "status": "ok",
     "timestamp": 1688020892039,
     "user": {
      "displayName": "Arvind Kumar Sharma (B21AI006)",
      "userId": "06998917017135981528"
     },
     "user_tz": -330
    },
    "id": "jr6ps1Q74e7U"
   },
   "outputs": [],
   "source": [
    "submision.to_csv('Neural Survivor.csv',index = False)"
   ]
  }
 ],
 "metadata": {
  "accelerator": "GPU",
  "colab": {
   "authorship_tag": "ABX9TyOgpfZ8RmS+yv33OZwdJPVM",
   "gpuType": "T4",
   "mount_file_id": "1_ii8AQrrCGrNlLJJH78eiO7ygFfN02_T",
   "provenance": []
  },
  "kernelspec": {
   "display_name": "Python 3 (ipykernel)",
   "language": "python",
   "name": "python3"
  },
  "language_info": {
   "codemirror_mode": {
    "name": "ipython",
    "version": 3
   },
   "file_extension": ".py",
   "mimetype": "text/x-python",
   "name": "python",
   "nbconvert_exporter": "python",
   "pygments_lexer": "ipython3",
   "version": "3.10.6"
  }
 },
 "nbformat": 4,
 "nbformat_minor": 1
}
