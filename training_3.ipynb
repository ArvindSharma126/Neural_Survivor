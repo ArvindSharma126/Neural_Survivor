{
 "cells": [
  {
   "cell_type": "code",
   "execution_count": 2,
   "metadata": {
    "execution": {
     "iopub.execute_input": "2023-06-05T06:41:24.740149Z",
     "iopub.status.busy": "2023-06-05T06:41:24.739736Z",
     "iopub.status.idle": "2023-06-05T06:41:29.910673Z",
     "shell.execute_reply": "2023-06-05T06:41:29.909598Z",
     "shell.execute_reply.started": "2023-06-05T06:41:24.740103Z"
    },
    "id": "08724480-2cfe-4d15-a778-689c89f8b463",
    "tags": []
   },
   "outputs": [
    {
     "name": "stderr",
     "output_type": "stream",
     "text": [
      "/opt/conda/lib/python3.10/site-packages/scipy/__init__.py:146: UserWarning: A NumPy version >=1.16.5 and <1.23.0 is required for this version of SciPy (detected version 1.23.5\n",
      "  warnings.warn(f\"A NumPy version >={np_minversion} and <{np_maxversion}\"\n"
     ]
    }
   ],
   "source": [
    "from PIL import Image\n",
    "import numpy as np\n",
    "import pandas as pd\n",
    "import torch\n",
    "import torch.nn as nn\n",
    "import torch.optim as optim\n",
    "import torch.nn.functional as f\n",
    "import matplotlib.pyplot as plt\n",
    "from sklearn.metrics import roc_auc_score,f1_score,classification_report\n",
    "import os\n",
    "import gc"
   ]
  },
  {
   "cell_type": "code",
   "execution_count": 3,
   "metadata": {
    "execution": {
     "iopub.execute_input": "2023-06-05T06:41:29.920233Z",
     "iopub.status.busy": "2023-06-05T06:41:29.916811Z",
     "iopub.status.idle": "2023-06-05T06:41:42.880439Z",
     "shell.execute_reply": "2023-06-05T06:41:42.878917Z",
     "shell.execute_reply.started": "2023-06-05T06:41:29.920194Z"
    }
   },
   "outputs": [
    {
     "name": "stdout",
     "output_type": "stream",
     "text": [
      "Collecting gdown\n",
      "  Downloading gdown-4.7.1-py3-none-any.whl (15 kB)\n",
      "Requirement already satisfied: filelock in /opt/conda/lib/python3.10/site-packages (from gdown) (3.11.0)\n",
      "Requirement already satisfied: beautifulsoup4 in /opt/conda/lib/python3.10/site-packages (from gdown) (4.12.2)\n",
      "Requirement already satisfied: tqdm in /opt/conda/lib/python3.10/site-packages (from gdown) (4.64.1)\n",
      "Requirement already satisfied: requests[socks] in /opt/conda/lib/python3.10/site-packages (from gdown) (2.28.2)\n",
      "Requirement already satisfied: six in /opt/conda/lib/python3.10/site-packages (from gdown) (1.16.0)\n",
      "Requirement already satisfied: soupsieve>1.2 in /opt/conda/lib/python3.10/site-packages (from beautifulsoup4->gdown) (2.4)\n",
      "Requirement already satisfied: urllib3<1.27,>=1.21.1 in /opt/conda/lib/python3.10/site-packages (from requests[socks]->gdown) (1.26.15)\n",
      "Requirement already satisfied: idna<4,>=2.5 in /opt/conda/lib/python3.10/site-packages (from requests[socks]->gdown) (3.4)\n",
      "Requirement already satisfied: charset-normalizer<4,>=2 in /opt/conda/lib/python3.10/site-packages (from requests[socks]->gdown) (2.1.1)\n",
      "Requirement already satisfied: certifi>=2017.4.17 in /opt/conda/lib/python3.10/site-packages (from requests[socks]->gdown) (2022.12.7)\n",
      "Requirement already satisfied: PySocks!=1.5.7,>=1.5.6 in /opt/conda/lib/python3.10/site-packages (from requests[socks]->gdown) (1.7.1)\n",
      "Installing collected packages: gdown\n",
      "Successfully installed gdown-4.7.1\n",
      "\u001b[33mWARNING: Running pip as the 'root' user can result in broken permissions and conflicting behaviour with the system package manager. It is recommended to use a virtual environment instead: https://pip.pypa.io/warnings/venv\u001b[0m\u001b[33m\n",
      "\u001b[0m"
     ]
    }
   ],
   "source": [
    "!pip install gdown"
   ]
  },
  {
   "cell_type": "code",
   "execution_count": 4,
   "metadata": {
    "execution": {
     "iopub.execute_input": "2023-06-05T06:41:42.886688Z",
     "iopub.status.busy": "2023-06-05T06:41:42.885725Z",
     "iopub.status.idle": "2023-06-05T06:41:48.058528Z",
     "shell.execute_reply": "2023-06-05T06:41:48.057358Z",
     "shell.execute_reply.started": "2023-06-05T06:41:42.886648Z"
    }
   },
   "outputs": [
    {
     "name": "stderr",
     "output_type": "stream",
     "text": [
      "Downloading...\n",
      "From (uriginal): https://drive.google.com/uc?id=1wqcODyaPE3AzGaWVVRtY9jsM0sT_6Ecn\n",
      "From (redirected): https://drive.google.com/uc?id=1wqcODyaPE3AzGaWVVRtY9jsM0sT_6Ecn&confirm=t&uuid=5f2801a1-f92f-4c08-b1b7-08c8becdd419\n",
      "To: /kaggle/working/best_model.pth\n",
      "100%|██████████| 620M/620M [00:04<00:00, 152MB/s]  \n"
     ]
    },
    {
     "data": {
      "text/plain": [
       "'best_model.pth'"
      ]
     },
     "execution_count": 4,
     "metadata": {},
     "output_type": "execute_result"
    }
   ],
   "source": [
    "import gdown\n",
    "gdown.download(\"https://drive.google.com/uc?id=1wqcODyaPE3AzGaWVVRtY9jsM0sT_6Ecn\",\"best_model.pth\",quiet=False)"
   ]
  },
  {
   "cell_type": "code",
   "execution_count": 5,
   "metadata": {
    "execution": {
     "iopub.execute_input": "2023-06-05T06:41:48.064723Z",
     "iopub.status.busy": "2023-06-05T06:41:48.063759Z",
     "iopub.status.idle": "2023-06-05T06:42:06.437834Z",
     "shell.execute_reply": "2023-06-05T06:42:06.436763Z",
     "shell.execute_reply.started": "2023-06-05T06:41:48.064666Z"
    }
   },
   "outputs": [
    {
     "name": "stderr",
     "output_type": "stream",
     "text": [
      "Downloading...\n",
      "From (uriginal): https://drive.google.com/uc?id=1bfgsVn_MvMkL5g_0wfANV3uj2-2sG8uf\n",
      "From (redirected): https://drive.google.com/uc?id=1bfgsVn_MvMkL5g_0wfANV3uj2-2sG8uf&confirm=t&uuid=224fc18b-31a7-4452-bb6b-cb0dc27fb6c3\n",
      "To: /kaggle/working/data500x50.zip\n",
      "100%|██████████| 2.08G/2.08G [00:17<00:00, 118MB/s] \n"
     ]
    },
    {
     "data": {
      "text/plain": [
       "'data500x50.zip'"
      ]
     },
     "execution_count": 5,
     "metadata": {},
     "output_type": "execute_result"
    }
   ],
   "source": [
    "gdown.download(\"https://drive.google.com/uc?id=1bfgsVn_MvMkL5g_0wfANV3uj2-2sG8uf\",\"data500x50.zip\",quiet=False)"
   ]
  },
  {
   "cell_type": "code",
   "execution_count": 6,
   "metadata": {
    "execution": {
     "iopub.execute_input": "2023-06-05T06:42:06.440907Z",
     "iopub.status.busy": "2023-06-05T06:42:06.439965Z",
     "iopub.status.idle": "2023-06-05T06:42:55.902423Z",
     "shell.execute_reply": "2023-06-05T06:42:55.901322Z",
     "shell.execute_reply.started": "2023-06-05T06:42:06.440870Z"
    }
   },
   "outputs": [
    {
     "name": "stdout",
     "output_type": "stream",
     "text": [
      "Archive:  /kaggle/working/data500x50.zip\n",
      "  inflating: data500x50/train_data.npy  \n",
      "  inflating: data500x50/train_label.npy  \n",
      "  inflating: data500x50/val_data.npy  \n",
      "  inflating: data500x50/val_label.npy  \n"
     ]
    }
   ],
   "source": [
    "!unzip /kaggle/working/data500x50.zip"
   ]
  },
  {
   "cell_type": "code",
   "execution_count": null,
   "metadata": {
    "id": "453c9fb0-ebec-47c6-89bd-1875396db908",
    "tags": []
   },
   "outputs": [],
   "source": [
    "class model(nn.Module):\n",
    "    def __init__(self):\n",
    "        super(model,self).__init__()\n",
    "        self.feature_ext = nn.Sequential(\n",
    "            nn.Conv2d(1,5,5,padding=2),\n",
    "            nn.ReLU(),\n",
    "            nn.Conv2d(5,10,5,padding = 2),\n",
    "            nn.MaxPool2d(2,stride=2),\n",
    "            nn.Conv2d(10,15,3,padding=1),\n",
    "            nn.ReLU(),\n",
    "            nn.Conv2d(15,20,3,padding = 1),\n",
    "            nn.MaxPool2d(2,stride=2),\n",
    "            nn.Flatten(),\n",
    "            nn.Linear(30000,5000),\n",
    "            nn.Sigmoid(),\n",
    "            nn.Linear(5000,1000),\n",
    "        )\n",
    "        self.out = nn.Sequential(\n",
    "            nn.Linear(1,2),\n",
    "            nn.Sigmoid(),\n",
    "            nn.Softmax(dim = 1)\n",
    "        )\n",
    "    \n",
    "    def forward(self,X1,X2):\n",
    "        feature1 = self.feature_ext(X1)\n",
    "        feature2 = self.feature_ext(X2)\n",
    "        diff = feature1 - feature2\n",
    "        Z = torch.norm(diff,dim = 1).reshape((-1,1))\n",
    "        return self.out(Z)"
   ]
  },
  {
   "cell_type": "code",
   "execution_count": 7,
   "metadata": {
    "execution": {
     "iopub.execute_input": "2023-06-03T08:34:18.231223Z",
     "iopub.status.busy": "2023-06-03T08:34:18.230839Z",
     "iopub.status.idle": "2023-06-03T08:34:18.237122Z",
     "shell.execute_reply": "2023-06-03T08:34:18.234655Z",
     "shell.execute_reply.started": "2023-06-03T08:34:18.231188Z"
    },
    "id": "050705cc-f83d-4124-b764-0f11f1912909",
    "tags": []
   },
   "outputs": [],
   "source": [
    "best_auc = 0"
   ]
  },
  {
   "cell_type": "code",
   "execution_count": 7,
   "metadata": {
    "execution": {
     "iopub.execute_input": "2023-06-05T06:43:28.234201Z",
     "iopub.status.busy": "2023-06-05T06:43:28.233685Z",
     "iopub.status.idle": "2023-06-05T06:43:31.697717Z",
     "shell.execute_reply": "2023-06-05T06:43:31.696745Z",
     "shell.execute_reply.started": "2023-06-05T06:43:28.234153Z"
    },
    "id": "cac9c351-f900-4437-a2b3-861e195cf62e",
    "tags": []
   },
   "outputs": [],
   "source": [
    "X = np.load(\"data500x50/train_data.npy\")\n",
    "Y = np.load(\"data500x50/train_label.npy\")\n",
    "X_v = np.load(\"data500x50/val_data.npy\")\n",
    "Y_v = np.load(\"data500x50/val_label.npy\")"
   ]
  },
  {
   "cell_type": "code",
   "execution_count": 8,
   "metadata": {
    "execution": {
     "iopub.execute_input": "2023-06-05T06:43:31.717843Z",
     "iopub.status.busy": "2023-06-05T06:43:31.717514Z",
     "iopub.status.idle": "2023-06-05T06:43:31.724826Z",
     "shell.execute_reply": "2023-06-05T06:43:31.723740Z",
     "shell.execute_reply.started": "2023-06-05T06:43:31.717815Z"
    },
    "id": "d14cc621-6f9f-45ee-9b79-1a6acb064152",
    "tags": []
   },
   "outputs": [],
   "source": [
    "num_batch_train,_,batch_size_train,_,_,_ = X.shape\n",
    "num_batch_val,_,batch_size_val,_,_,_ = X_v.shape"
   ]
  },
  {
   "cell_type": "code",
   "execution_count": null,
   "metadata": {
    "execution": {
     "iopub.execute_input": "2023-06-02T05:33:35.879836Z",
     "iopub.status.busy": "2023-06-02T05:33:35.879027Z",
     "iopub.status.idle": "2023-06-02T05:33:35.890842Z",
     "shell.execute_reply": "2023-06-02T05:33:35.889786Z",
     "shell.execute_reply.started": "2023-06-02T05:33:35.879803Z"
    },
    "id": "VJSMxEg22u8q"
   },
   "outputs": [],
   "source": [
    "class model_2(nn.Module):\n",
    "    def __init__(self):\n",
    "        super(model_2,self).__init__()\n",
    "        self.feature_ext = nn.Sequential(\n",
    "            nn.Conv2d(1,5,5,padding=2),\n",
    "            nn.ReLU(),\n",
    "            nn.Conv2d(5,10,5,padding = 2),\n",
    "            nn.MaxPool2d(2,stride=2),\n",
    "            nn.Conv2d(10,15,3,padding=1),\n",
    "            nn.ReLU(),\n",
    "            nn.Conv2d(15,20,3,padding = 1),\n",
    "            nn.MaxPool2d(2,stride=2),\n",
    "            nn.Flatten(),\n",
    "            nn.Linear(30000,5000),\n",
    "            nn.Sigmoid(),\n",
    "            nn.Linear(5000,1000),\n",
    "        )\n",
    "        self.out = nn.Sequential(\n",
    "            nn.Linear(1000,50),\n",
    "            nn.Sigmoid(),\n",
    "            nn.Linear(50,2),\n",
    "            nn.Softmax(dim = 1)\n",
    "        )\n",
    "    \n",
    "    def forward(self,X1,X2):\n",
    "        feature1 = self.feature_ext(X1)\n",
    "        feature2 = self.feature_ext(X2)\n",
    "        diff = feature1 - feature2\n",
    "        diff = torch.abs(diff)\n",
    "        return self.out(diff)"
   ]
  },
  {
   "cell_type": "code",
   "execution_count": 9,
   "metadata": {
    "execution": {
     "iopub.execute_input": "2023-06-05T06:43:42.404338Z",
     "iopub.status.busy": "2023-06-05T06:43:42.403959Z",
     "iopub.status.idle": "2023-06-05T06:43:42.413759Z",
     "shell.execute_reply": "2023-06-05T06:43:42.412853Z",
     "shell.execute_reply.started": "2023-06-05T06:43:42.404302Z"
    }
   },
   "outputs": [],
   "source": [
    "class model_3(nn.Module):\n",
    "    def __init__(self):\n",
    "        super(model_3,self).__init__()\n",
    "        self.feature_ext = nn.Sequential(\n",
    "            nn.Conv2d(1,5,5,padding=2),\n",
    "            nn.ReLU(),\n",
    "            nn.Conv2d(5,10,5,padding = 2),\n",
    "            nn.MaxPool2d(2,stride=2),\n",
    "            nn.Conv2d(10,15,3,padding=1),\n",
    "            nn.ReLU(),\n",
    "            nn.Conv2d(15,20,3,padding = 1),\n",
    "            nn.MaxPool2d(2,stride=2),\n",
    "            nn.Flatten(),\n",
    "            nn.Linear(30000,5000),\n",
    "            nn.ReLU(),\n",
    "            nn.Linear(5000,1000),\n",
    "        )\n",
    "        self.out = nn.Sequential(\n",
    "            nn.Linear(1000,50),\n",
    "            nn.ReLU(),\n",
    "            nn.Linear(50,2),\n",
    "            nn.Softmax(dim = 1)\n",
    "        )\n",
    "    \n",
    "    def forward(self,X1,X2):\n",
    "        feature1 = self.feature_ext(X1)\n",
    "        feature2 = self.feature_ext(X2)\n",
    "        diff = feature1 - feature2\n",
    "        diff = torch.abs(diff)\n",
    "        return self.out(diff)"
   ]
  },
  {
   "cell_type": "code",
   "execution_count": null,
   "metadata": {
    "execution": {
     "iopub.execute_input": "2023-05-17T07:59:22.766389Z",
     "iopub.status.busy": "2023-05-17T07:59:22.765963Z",
     "iopub.status.idle": "2023-05-17T07:59:28.037260Z",
     "shell.execute_reply": "2023-05-17T07:59:28.036264Z",
     "shell.execute_reply.started": "2023-05-17T07:59:22.766351Z"
    }
   },
   "outputs": [],
   "source": [
    "gdown.download('https://drive.google.com/uc?id=17wa93OwnIb-z6NlK7-TjBYopLVBFkugq','best_model.pth',quiet=False)"
   ]
  },
  {
   "cell_type": "code",
   "execution_count": 10,
   "metadata": {
    "execution": {
     "iopub.execute_input": "2023-06-05T06:43:57.938389Z",
     "iopub.status.busy": "2023-06-05T06:43:57.938029Z",
     "iopub.status.idle": "2023-06-05T06:44:04.217912Z",
     "shell.execute_reply": "2023-06-05T06:44:04.216971Z",
     "shell.execute_reply.started": "2023-06-05T06:43:57.938360Z"
    }
   },
   "outputs": [],
   "source": [
    "mod = torch.load(\"best_model.pth\")"
   ]
  },
  {
   "cell_type": "code",
   "execution_count": 10,
   "metadata": {
    "execution": {
     "iopub.execute_input": "2023-06-03T08:14:42.340121Z",
     "iopub.status.busy": "2023-06-03T08:14:42.339797Z",
     "iopub.status.idle": "2023-06-03T08:14:42.349855Z",
     "shell.execute_reply": "2023-06-03T08:14:42.348761Z",
     "shell.execute_reply.started": "2023-06-03T08:14:42.340090Z"
    }
   },
   "outputs": [],
   "source": [
    "best_auc = 0.0\n",
    "best_f1 = 0.0"
   ]
  },
  {
   "cell_type": "code",
   "execution_count": 19,
   "metadata": {
    "execution": {
     "iopub.execute_input": "2023-06-03T08:57:49.471709Z",
     "iopub.status.busy": "2023-06-03T08:57:49.471320Z",
     "iopub.status.idle": "2023-06-03T09:04:29.395233Z",
     "shell.execute_reply": "2023-06-03T09:04:29.393644Z",
     "shell.execute_reply.started": "2023-06-03T08:57:49.471678Z"
    },
    "id": "vpxUI6Fy3G_A",
    "outputId": "646e3d42-2fd6-4bd9-a686-b683a50a1aa2",
    "scrolled": true
   },
   "outputs": [
    {
     "name": "stdout",
     "output_type": "stream",
     "text": [
      "Epoch 0\n",
      "Training \t loss : 0.4998748333863639\n",
      "Validation \t F1 : 0.7576075550891919 \t AUC : 0.8391095398718645\n",
      "Epoch 1\n"
     ]
    },
    {
     "ename": "KeyboardInterrupt",
     "evalue": "",
     "output_type": "error",
     "traceback": [
      "\u001b[0;31m---------------------------------------------------------------------------\u001b[0m",
      "\u001b[0;31mKeyboardInterrupt\u001b[0m                         Traceback (most recent call last)",
      "Cell \u001b[0;32mIn[19], line 12\u001b[0m\n\u001b[1;32m     10\u001b[0m X2 \u001b[38;5;241m=\u001b[39m torch\u001b[38;5;241m.\u001b[39mtensor(X[i,\u001b[38;5;241m1\u001b[39m])\u001b[38;5;241m.\u001b[39mfloat()\n\u001b[1;32m     11\u001b[0m Y_ \u001b[38;5;241m=\u001b[39m torch\u001b[38;5;241m.\u001b[39mtensor(Y[i])\n\u001b[0;32m---> 12\u001b[0m X1 \u001b[38;5;241m=\u001b[39m \u001b[43mX1\u001b[49m\u001b[38;5;241;43m.\u001b[39;49m\u001b[43mto\u001b[49m\u001b[43m(\u001b[49m\u001b[38;5;124;43m'\u001b[39;49m\u001b[38;5;124;43mcuda:0\u001b[39;49m\u001b[38;5;124;43m'\u001b[39;49m\u001b[43m)\u001b[49m\n\u001b[1;32m     13\u001b[0m X2 \u001b[38;5;241m=\u001b[39m X2\u001b[38;5;241m.\u001b[39mto(\u001b[38;5;124m'\u001b[39m\u001b[38;5;124mcuda:0\u001b[39m\u001b[38;5;124m'\u001b[39m)\n\u001b[1;32m     14\u001b[0m Y_ \u001b[38;5;241m=\u001b[39m Y_\u001b[38;5;241m.\u001b[39mto(\u001b[38;5;124m'\u001b[39m\u001b[38;5;124mcuda:0\u001b[39m\u001b[38;5;124m'\u001b[39m)\n",
      "\u001b[0;31mKeyboardInterrupt\u001b[0m: "
     ]
    }
   ],
   "source": [
    "loss_fn = nn.CrossEntropyLoss()\n",
    "opt = optim.Adam(mod.parameters(),lr = 0.0001)\n",
    "pred_Y = np.zeros(num_batch_val*batch_size_val)\n",
    "mod = mod.to('cuda:0')\n",
    "for epoch in range(2):\n",
    "    total_loss = 0\n",
    "    print(f\"Epoch {epoch}\")\n",
    "    for i in range(num_batch_train):\n",
    "        X1 = torch.tensor(X[i,0]).float()\n",
    "        X2 = torch.tensor(X[i,1]).float()\n",
    "        Y_ = torch.tensor(Y[i])\n",
    "        X1 = X1.to('cuda:0')\n",
    "        X2 = X2.to('cuda:0')\n",
    "        Y_ = Y_.to('cuda:0')\n",
    "        opt.zero_grad()\n",
    "        prob = mod(X1.float(),X2.float())\n",
    "        del X2\n",
    "        del X1\n",
    "        loss = loss_fn(prob,Y_.long())\n",
    "        total_loss += loss.item()\n",
    "        loss.backward()\n",
    "\n",
    "        opt.step()\n",
    "        \n",
    "        del loss\n",
    "        del prob\n",
    "    print(f\"Training \\t loss : {total_loss/num_batch_train}\")\n",
    "    with torch.no_grad():\n",
    "        for i in range(num_batch_val):\n",
    "            X1 = torch.tensor(X_v[i,0]).float()\n",
    "            X2 = torch.tensor(X_v[i,1]).float()\n",
    "            X1 = X1.to('cuda:0')\n",
    "            X2 = X2.to('cuda:0')\n",
    "            prob = mod(X1.float(),X2.float())\n",
    "            pred_Y[i*batch_size_val:(i+1)*batch_size_val] = prob.cpu().numpy()[:,1]\n",
    "            del prob\n",
    "            del X2\n",
    "            del X1\n",
    "    print(f\"Validation \\t F1 : {f1_score(Y_v,(pred_Y>=0.5)*1)} \\t AUC : {roc_auc_score(Y_v,pred_Y)}\")\n",
    "    if best_auc < roc_auc_score(Y_v,pred_Y):\n",
    "        best_auc = roc_auc_score(Y_v,pred_Y)\n",
    "        torch.save(mod,'best_auc_model.pth')\n",
    "    gc.collect()\n",
    "    torch.cuda.empty_cache()"
   ]
  },
  {
   "cell_type": "code",
   "execution_count": 14,
   "metadata": {
    "execution": {
     "iopub.execute_input": "2023-06-03T08:21:17.212245Z",
     "iopub.status.busy": "2023-06-03T08:21:17.211845Z",
     "iopub.status.idle": "2023-06-03T08:21:17.233376Z",
     "shell.execute_reply": "2023-06-03T08:21:17.232434Z",
     "shell.execute_reply.started": "2023-06-03T08:21:17.212206Z"
    },
    "id": "ukdpE-sk__tu",
    "outputId": "87aaab04-10e3-4ca2-ca8c-93fbe8a609d5"
   },
   "outputs": [
    {
     "name": "stdout",
     "output_type": "stream",
     "text": [
      "              precision    recall  f1-score   support\n",
      "\n",
      "           0       0.79      0.88      0.83      2885\n",
      "           1       0.86      0.76      0.81      2885\n",
      "\n",
      "    accuracy                           0.82      5770\n",
      "   macro avg       0.83      0.82      0.82      5770\n",
      "weighted avg       0.83      0.82      0.82      5770\n",
      "\n"
     ]
    }
   ],
   "source": [
    "print(classification_report(Y_v,(pred_Y>=0.5)*1))"
   ]
  },
  {
   "cell_type": "code",
   "execution_count": null,
   "metadata": {
    "execution": {
     "iopub.execute_input": "2023-06-02T08:19:27.648832Z",
     "iopub.status.busy": "2023-06-02T08:19:27.648478Z",
     "iopub.status.idle": "2023-06-02T08:19:27.661660Z",
     "shell.execute_reply": "2023-06-02T08:19:27.660605Z",
     "shell.execute_reply.started": "2023-06-02T08:19:27.648804Z"
    }
   },
   "outputs": [],
   "source": [
    "df = pd.DataFrame()"
   ]
  },
  {
   "cell_type": "code",
   "execution_count": null,
   "metadata": {
    "execution": {
     "iopub.execute_input": "2023-06-02T08:19:29.348905Z",
     "iopub.status.busy": "2023-06-02T08:19:29.347818Z",
     "iopub.status.idle": "2023-06-02T08:19:29.383612Z",
     "shell.execute_reply": "2023-06-02T08:19:29.382680Z",
     "shell.execute_reply.started": "2023-06-02T08:19:29.348865Z"
    }
   },
   "outputs": [],
   "source": [
    "df['label'] = (pred_Y>=0.5)*1\n",
    "df"
   ]
  },
  {
   "cell_type": "code",
   "execution_count": null,
   "metadata": {
    "execution": {
     "iopub.execute_input": "2023-06-02T08:19:34.808547Z",
     "iopub.status.busy": "2023-06-02T08:19:34.807912Z",
     "iopub.status.idle": "2023-06-02T08:19:34.822508Z",
     "shell.execute_reply": "2023-06-02T08:19:34.820984Z",
     "shell.execute_reply.started": "2023-06-02T08:19:34.808513Z"
    }
   },
   "outputs": [],
   "source": [
    "df['proba'] = pred_Y\n",
    "df"
   ]
  },
  {
   "cell_type": "code",
   "execution_count": null,
   "metadata": {
    "execution": {
     "iopub.execute_input": "2023-06-02T08:19:50.383033Z",
     "iopub.status.busy": "2023-06-02T08:19:50.382658Z",
     "iopub.status.idle": "2023-06-02T08:19:50.424165Z",
     "shell.execute_reply": "2023-06-02T08:19:50.423077Z",
     "shell.execute_reply.started": "2023-06-02T08:19:50.383003Z"
    }
   },
   "outputs": [],
   "source": [
    "df.to_csv(\"pred.csv\")"
   ]
  },
  {
   "cell_type": "code",
   "execution_count": null,
   "metadata": {
    "execution": {
     "iopub.execute_input": "2023-06-02T08:15:58.097869Z",
     "iopub.status.busy": "2023-06-02T08:15:58.097499Z",
     "iopub.status.idle": "2023-06-02T08:15:58.108875Z",
     "shell.execute_reply": "2023-06-02T08:15:58.107564Z",
     "shell.execute_reply.started": "2023-06-02T08:15:58.097840Z"
    }
   },
   "outputs": [],
   "source": [
    "from IPython.display import FileLink\n",
    "FileLink(r'best_auc_model.pth')"
   ]
  },
  {
   "cell_type": "code",
   "execution_count": 12,
   "metadata": {
    "execution": {
     "iopub.execute_input": "2023-06-05T06:55:02.445050Z",
     "iopub.status.busy": "2023-06-05T06:55:02.444668Z",
     "iopub.status.idle": "2023-06-05T06:55:45.415759Z",
     "shell.execute_reply": "2023-06-05T06:55:45.414753Z",
     "shell.execute_reply.started": "2023-06-05T06:55:02.445019Z"
    }
   },
   "outputs": [],
   "source": [
    "train_X = np.zeros((num_batch_train*batch_size_train,1000))\n",
    "train_Y = np.zeros((num_batch_train*batch_size_train,1))\n",
    "val_X = np.zeros((num_batch_val*batch_size_val,1000))\n",
    "val_Y = np.zeros((num_batch_val*batch_size_val,1))\n",
    "mod.to('cuda:0')\n",
    "with torch.no_grad():\n",
    "    for i in range(num_batch_train):\n",
    "        X1 = torch.tensor(X[i,0]).float()\n",
    "        X2 = torch.tensor(X[i,1]).float()\n",
    "        X1 = X1.to('cuda:0')\n",
    "        X2 = X2.to('cuda:0')\n",
    "        feature1 = mod.feature_ext(X1)\n",
    "        feature2 = mod.feature_ext(X2)\n",
    "        diff = feature1 - feature2\n",
    "        diff = torch.abs(diff)\n",
    "        train_X[i*batch_size_train:(i+1)*batch_size_train,:] = diff.cpu().numpy()\n",
    "        train_Y[i*batch_size_train:(i+1)*batch_size_train] = Y[i].reshape((-1,1))\n",
    "    for i in range(num_batch_val):\n",
    "        X1 = torch.tensor(X_v[i,0]).float()\n",
    "        X2 = torch.tensor(X_v[i,1]).float()\n",
    "        X1 = X1.to('cuda:0')\n",
    "        X2 = X2.to('cuda:0')\n",
    "        feature1 = mod.feature_ext(X1)\n",
    "        feature2 = mod.feature_ext(X2)\n",
    "        diff = feature1 - feature2\n",
    "        diff = torch.abs(diff)\n",
    "        val_X[i*batch_size_val:(i+1)*batch_size_val,:] = diff.cpu().numpy()\n",
    "        val_Y[i*batch_size_val:(i+1)*batch_size_val] = Y_v[i]\n",
    "    "
   ]
  },
  {
   "cell_type": "code",
   "execution_count": 19,
   "metadata": {
    "execution": {
     "iopub.execute_input": "2023-06-05T06:57:19.464163Z",
     "iopub.status.busy": "2023-06-05T06:57:19.463754Z",
     "iopub.status.idle": "2023-06-05T06:57:19.470270Z",
     "shell.execute_reply": "2023-06-05T06:57:19.467569Z",
     "shell.execute_reply.started": "2023-06-05T06:57:19.464132Z"
    }
   },
   "outputs": [],
   "source": [
    "val_Y = Y_v.reshape((-1,1))"
   ]
  },
  {
   "cell_type": "code",
   "execution_count": 20,
   "metadata": {
    "execution": {
     "iopub.execute_input": "2023-06-05T06:57:26.588446Z",
     "iopub.status.busy": "2023-06-05T06:57:26.588075Z",
     "iopub.status.idle": "2023-06-05T06:57:26.594812Z",
     "shell.execute_reply": "2023-06-05T06:57:26.593858Z",
     "shell.execute_reply.started": "2023-06-05T06:57:26.588417Z"
    }
   },
   "outputs": [
    {
     "data": {
      "text/plain": [
       "array([[1],\n",
       "       [0],\n",
       "       [1],\n",
       "       ...,\n",
       "       [1],\n",
       "       [1],\n",
       "       [0]])"
      ]
     },
     "execution_count": 20,
     "metadata": {},
     "output_type": "execute_result"
    }
   ],
   "source": [
    "val_Y"
   ]
  },
  {
   "cell_type": "code",
   "execution_count": 24,
   "metadata": {
    "execution": {
     "iopub.execute_input": "2023-06-05T06:59:26.643997Z",
     "iopub.status.busy": "2023-06-05T06:59:26.643531Z",
     "iopub.status.idle": "2023-06-05T06:59:26.700272Z",
     "shell.execute_reply": "2023-06-05T06:59:26.699313Z",
     "shell.execute_reply.started": "2023-06-05T06:59:26.643959Z"
    }
   },
   "outputs": [],
   "source": [
    "with open(\"val_X.npy\",'wb') as f:\n",
    "    np.save(f,val_X)"
   ]
  },
  {
   "cell_type": "code",
   "execution_count": 25,
   "metadata": {
    "execution": {
     "iopub.execute_input": "2023-06-05T07:03:04.634569Z",
     "iopub.status.busy": "2023-06-05T07:03:04.634138Z",
     "iopub.status.idle": "2023-06-05T07:04:28.378370Z",
     "shell.execute_reply": "2023-06-05T07:04:28.377103Z",
     "shell.execute_reply.started": "2023-06-05T07:03:04.634534Z"
    }
   },
   "outputs": [
    {
     "name": "stdout",
     "output_type": "stream",
     "text": [
      "  adding: train_X.npy ........................................................................\t(in=759200128) (out=378888435) (deflated 50%)\n",
      "  adding: train_Y.npy \t(in=759328) (out=28493) (deflated 96%)\n",
      "  adding: val_X.npy ....\t(in=46160128) (out=23022860) (deflated 50%)\n",
      "  adding: val_Y.npy\t(in=46288) (out=1854) (deflated 96%)\n",
      "total bytes=806165872, compressed=401941642 -> 50% savings\n"
     ]
    }
   ],
   "source": [
    "!zip -v dataset100.zip train_X.npy train_Y.npy val_X.npy val_Y.npy"
   ]
  }
 ],
 "metadata": {
  "kernelspec": {
   "display_name": "Python 3 (ipykernel)",
   "language": "python",
   "name": "python3"
  },
  "language_info": {
   "codemirror_mode": {
    "name": "ipython",
    "version": 3
   },
   "file_extension": ".py",
   "mimetype": "text/x-python",
   "name": "python",
   "nbconvert_exporter": "python",
   "pygments_lexer": "ipython3",
   "version": "3.10.6"
  }
 },
 "nbformat": 4,
 "nbformat_minor": 4
}
