{
 "cells": [
  {
   "cell_type": "code",
   "execution_count": 2,
   "metadata": {
    "execution": {
     "iopub.execute_input": "2023-06-05T06:41:24.740149Z",
     "iopub.status.busy": "2023-06-05T06:41:24.739736Z",
     "iopub.status.idle": "2023-06-05T06:41:29.910673Z",
     "shell.execute_reply": "2023-06-05T06:41:29.909598Z",
     "shell.execute_reply.started": "2023-06-05T06:41:24.740103Z"
    },
    "id": "08724480-2cfe-4d15-a778-689c89f8b463",
    "tags": []
   },
   "outputs": [
    {
     "name": "stderr",
     "output_type": "stream",
     "text": [
      "/opt/conda/lib/python3.10/site-packages/scipy/__init__.py:146: UserWarning: A NumPy version >=1.16.5 and <1.23.0 is required for this version of SciPy (detected version 1.23.5\n",
      "  warnings.warn(f\"A NumPy version >={np_minversion} and <{np_maxversion}\"\n"
     ]
    }
   ],
   "source": [
    "from PIL import Image\n",
    "import numpy as np\n",
    "import pandas as pd\n",
    "import torch\n",
    "import torch.nn as nn\n",
    "import torch.optim as optim\n",
    "import torch.nn.functional as f\n",
    "import matplotlib.pyplot as plt\n",
    "from sklearn.metrics import roc_auc_score,f1_score,classification_report\n",
    "import os\n",
    "import gc"
   ]
  },
  {
   "cell_type": "code",
   "execution_count": 7,
   "metadata": {
    "execution": {
     "iopub.execute_input": "2023-06-05T06:43:28.234201Z",
     "iopub.status.busy": "2023-06-05T06:43:28.233685Z",
     "iopub.status.idle": "2023-06-05T06:43:31.697717Z",
     "shell.execute_reply": "2023-06-05T06:43:31.696745Z",
     "shell.execute_reply.started": "2023-06-05T06:43:28.234153Z"
    },
    "id": "cac9c351-f900-4437-a2b3-861e195cf62e",
    "tags": []
   },
   "outputs": [],
   "source": [
    "X = np.load(\"data500x50/train_data.npy\")\n",
    "Y = np.load(\"data500x50/train_label.npy\")\n",
    "X_v = np.load(\"data500x50/val_data.npy\")\n",
    "Y_v = np.load(\"data500x50/val_label.npy\")"
   ]
  },
  {
   "cell_type": "code",
   "execution_count": 8,
   "metadata": {
    "execution": {
     "iopub.execute_input": "2023-06-05T06:43:31.717843Z",
     "iopub.status.busy": "2023-06-05T06:43:31.717514Z",
     "iopub.status.idle": "2023-06-05T06:43:31.724826Z",
     "shell.execute_reply": "2023-06-05T06:43:31.723740Z",
     "shell.execute_reply.started": "2023-06-05T06:43:31.717815Z"
    },
    "id": "d14cc621-6f9f-45ee-9b79-1a6acb064152",
    "tags": []
   },
   "outputs": [],
   "source": [
    "num_batch_train,_,batch_size_train,_,_,_ = X.shape\n",
    "num_batch_val,_,batch_size_val,_,_,_ = X_v.shape"
   ]
  },
  {
   "cell_type": "code",
   "execution_count": 9,
   "metadata": {
    "execution": {
     "iopub.execute_input": "2023-06-05T06:43:42.404338Z",
     "iopub.status.busy": "2023-06-05T06:43:42.403959Z",
     "iopub.status.idle": "2023-06-05T06:43:42.413759Z",
     "shell.execute_reply": "2023-06-05T06:43:42.412853Z",
     "shell.execute_reply.started": "2023-06-05T06:43:42.404302Z"
    }
   },
   "outputs": [],
   "source": [
    "class model_3(nn.Module):\n",
    "    def __init__(self):\n",
    "        super(model_3,self).__init__()\n",
    "        self.feature_ext = nn.Sequential(\n",
    "            nn.Conv2d(1,5,5,padding=2),\n",
    "            nn.ReLU(),\n",
    "            nn.Conv2d(5,10,5,padding = 2),\n",
    "            nn.MaxPool2d(2,stride=2),\n",
    "            nn.Conv2d(10,15,3,padding=1),\n",
    "            nn.ReLU(),\n",
    "            nn.Conv2d(15,20,3,padding = 1),\n",
    "            nn.MaxPool2d(2,stride=2),\n",
    "            nn.Flatten(),\n",
    "            nn.Linear(30000,5000),\n",
    "            nn.ReLU(),\n",
    "            nn.Linear(5000,1000),\n",
    "        )\n",
    "        self.out = nn.Sequential(\n",
    "            nn.Linear(1000,50),\n",
    "            nn.ReLU(),\n",
    "            nn.Linear(50,2),\n",
    "            nn.Softmax(dim = 1)\n",
    "        )\n",
    "    \n",
    "    def forward(self,X1,X2):\n",
    "        feature1 = self.feature_ext(X1)\n",
    "        feature2 = self.feature_ext(X2)\n",
    "        diff = feature1 - feature2\n",
    "        diff = torch.abs(diff)\n",
    "        return self.out(diff)"
   ]
  },
  {
   "cell_type": "code",
   "execution_count": null,
   "metadata": {},
   "outputs": [],
   "source": [
    "best_auc = 0.0"
   ]
  },
  {
   "cell_type": "code",
   "execution_count": null,
   "metadata": {},
   "outputs": [],
   "source": [
    "loss_fn = nn.CrossEntropyLoss()\n",
    "opt = optim.Adam(mod.parameters(),lr = 0.0001)\n",
    "pred_Y = np.zeros(num_batch_val*batch_size_val)\n",
    "for epoch in range(20):\n",
    "    total_loss = 0\n",
    "    print(f\"Epoch {epoch}\")\n",
    "    for i in range(num_batch_train):\n",
    "        X1 = torch.tensor(X[i,0]).float()\n",
    "        X2 = torch.tensor(X[i,1]).float()\n",
    "        Y_ = torch.tensor(Y[i])\n",
    "        X1 = X1\n",
    "        X2 = X2\n",
    "        Y_ = Y_\n",
    "        opt.zero_grad()\n",
    "        prob = mod(X1.float(),X2.float())\n",
    "        del X2\n",
    "        del X1\n",
    "        loss = loss_fn(prob,Y_.long())\n",
    "        total_loss += loss.item()\n",
    "        loss.backward()\n",
    "\n",
    "        opt.step()\n",
    "        \n",
    "        del loss\n",
    "        del prob\n",
    "    print(f\"Training \\t loss : {total_loss/num_batch_train}\")\n",
    "    with torch.no_grad():\n",
    "        for i in range(num_batch_val):\n",
    "            X1 = torch.tensor(X_v[i,0]).float()\n",
    "            X2 = torch.tensor(X_v[i,1]).float()\n",
    "            X1 = X1\n",
    "            X2 = X2\n",
    "            prob = mod(X1.float(),X2.float())\n",
    "            pred_Y[i*batch_size_val:(i+1)*batch_size_val] = prob.cpu().numpy()[:,1]\n",
    "            del prob\n",
    "            del X2\n",
    "            del X1\n",
    "    print(f\"Validation \\t F1 : {f1_score(Y_v,(pred_Y>=0.5)*1)} \\t AUC : {roc_auc_score(Y_v,pred_Y)}\")\n",
    "    if best_auc < roc_auc_score(Y_v,pred_Y):\n",
    "        best_auc = roc_auc_score(Y_v,pred_Y)\n",
    "        torch.save(mod,'best_auc_model.pth')\n",
    "    gc.collect()"
   ]
  },
  {
   "cell_type": "code",
   "execution_count": 12,
   "metadata": {
    "execution": {
     "iopub.execute_input": "2023-06-05T06:55:02.445050Z",
     "iopub.status.busy": "2023-06-05T06:55:02.444668Z",
     "iopub.status.idle": "2023-06-05T06:55:45.415759Z",
     "shell.execute_reply": "2023-06-05T06:55:45.414753Z",
     "shell.execute_reply.started": "2023-06-05T06:55:02.445019Z"
    }
   },
   "outputs": [],
   "source": [
    "train_X = np.zeros((num_batch_train*batch_size_train,1000))\n",
    "train_Y = np.zeros((num_batch_train*batch_size_train,1))\n",
    "with torch.no_grad():\n",
    "    for i in range(num_batch_train):\n",
    "        X1 = torch.tensor(X[i,0]).float()\n",
    "        X2 = torch.tensor(X[i,1]).float()\n",
    "        feature1 = mod.feature_ext(X1)\n",
    "        feature2 = mod.feature_ext(X2)\n",
    "        diff = feature1 - feature2\n",
    "        diff = torch.abs(diff)\n",
    "        train_X[i*batch_size_train:(i+1)*batch_size_train,:] = diff.cpu().numpy()\n",
    "        train_Y[i*batch_size_train:(i+1)*batch_size_train] = Y[i].reshape((-1,1))"
   ]
  },
  {
   "cell_type": "code",
   "execution_count": null,
   "metadata": {},
   "outputs": [],
   "source": [
    "with open('train_X_1000.npy','wb') as f:\n",
    "    np.save(f,train_X)\n",
    "with open('train_Y_1000.npy','wb') as f:\n",
    "    np.save(f,train_Y)\n"
   ]
  }
 ],
 "metadata": {
  "kernelspec": {
   "display_name": "Python 3 (ipykernel)",
   "language": "python",
   "name": "python3"
  },
  "language_info": {
   "codemirror_mode": {
    "name": "ipython",
    "version": 3
   },
   "file_extension": ".py",
   "mimetype": "text/x-python",
   "name": "python",
   "nbconvert_exporter": "python",
   "pygments_lexer": "ipython3",
   "version": "3.10.6"
  }
 },
 "nbformat": 4,
 "nbformat_minor": 4
}
